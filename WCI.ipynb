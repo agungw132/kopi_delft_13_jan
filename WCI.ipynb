{
 "cells": [
  {
   "cell_type": "code",
   "execution_count": 7,
   "metadata": {
    "collapsed": false
   },
   "outputs": [
    {
     "name": "stderr",
     "output_type": "stream",
     "text": [
      "Warning message:\n",
      "\"package 'tidyr' was built under R version 3.3.2\"\n",
      "Attaching package: 'magrittr'\n",
      "\n",
      "The following object is masked from 'package:tidyr':\n",
      "\n",
      "    extract\n",
      "\n"
     ]
    }
   ],
   "source": [
    "library(readxl)\n",
    "library(dplyr)\n",
    "library(WDI)\n",
    "library(countrycode)\n",
    "library(ggvis)\n",
    "library(ggplot2)\n",
    "library(tidyr)\n",
    "library(magrittr)"
   ]
  },
  {
   "cell_type": "code",
   "execution_count": 104,
   "metadata": {
    "collapsed": false
   },
   "outputs": [],
   "source": [
    "# Load the readxl package\n",
    "library(readxl)\n",
    "library(dplyr)\n",
    "library(WDI)\n",
    "library(countrycode)\n",
    "library(ggvis)\n",
    "library(ggplot2)\n",
    "\n",
    "# Print out the names of both spreadsheets\n",
    "#excel_sheets(\"GCI_Dataset_2006-2015.xlsx\")\n",
    "\n",
    "# Read the sheets, one by one\n",
    "wci_data_raw <- read_excel(\"GCI_Dataset_2006-2015.xlsx\", skip = 2, sheet = 2, col_names = TRUE)\n",
    "country <- read_excel(\"GCI_Dataset_2006-2015.xlsx\", skip = 3, sheet = 4, col_names = FALSE)\n",
    "\n",
    "# Display the structure of pop_list\n",
    "#str(wci_data)\n",
    "#head(sheet_1)\n",
    "\n",
    "gdp_data = WDI(indicator='NY.GDP.PCAP.KD', start=1960, end=2016)\n",
    "gdp_data <- gdp_data %>%\n",
    "    filter(year == \"2015\") %>%\n",
    "    mutate(X0 = countrycode(iso2c, \"iso2c\", \"iso3c\", warn = FALSE))\n",
    "\n",
    "wci_data <- filter(wci_data_raw, Attribute == \"Value\", Edition == \"2014-2015\", `GLOBAL ID` == \"GCI.B.05\")\n",
    "wci_data <- gather(wci_data, X0, GCI, -c(1:8))\n",
    "wci_data <- mutate(wci_data, GCI_s = round(as.numeric(GCI), 2))\n",
    "wci_data <- left_join(wci_data, country, by = \"X0\") \n",
    "wci_data <- left_join(wci_data, gdp_data, by = \"X0\")\n",
    "wci_data <- mutate(wci_data, PPP = round(as.numeric(NY.GDP.PCAP.KD, 2)))\n",
    "\n",
    "wci_data_2 <- select(wci_data, X0, X1, X3, X4, PPP, GCI_s) \n",
    "wci_data_2 <- filter(wci_data_2, !is.na(GCI_s), !is.na(PPP))\n",
    "wci_data_2 <- arrange(wci_data_2, desc(PPP))\n",
    "#    layer_text()\n",
    "    #layer_model_predictions(model = \"lm\")\n",
    "    #scale_numeric(\"x\", domain = c(6, 0))\n",
    "\n",
    "#ggplot(wci_data, aes(x=GCI, y=NY.GDP.PCAP.KD)) + geom_jitter()"
   ]
  },
  {
   "cell_type": "code",
   "execution_count": 105,
   "metadata": {
    "collapsed": false
   },
   "outputs": [],
   "source": [
    "asean <- c(\"SGP\", \"IDN\", \"MYS\", \"THA\", \"VNM\", \"BRN\", \"KHM\", \"LAO\", \"MMR\", \"PHL\")\n",
    "wci_data_asean <- wci_data[wci_data$X0 %in% asean,]\n",
    "wci_data_asean <- filter(wci_data_asean, !is.na(GCI_s))\n"
   ]
  },
  {
   "cell_type": "code",
   "execution_count": 106,
   "metadata": {
    "collapsed": false
   },
   "outputs": [
    {
     "data": {},
     "metadata": {},
     "output_type": "display_data"
    }
   ],
   "source": [
    "library(ggvis)\n",
    "\n",
    "ggvis(wci_data_asean, ~GCI_s, ~PPP) %>%\n",
    "    layer_points(fill = ~X3) %>%\n",
    "    layer_smooths(span = 1, stroke := \"red\") %>%\n",
    "    layer_text(text := ~X0, fontSize := 10, fill = ~X3)"
   ]
  },
  {
   "cell_type": "code",
   "execution_count": 276,
   "metadata": {
    "collapsed": true
   },
   "outputs": [],
   "source": [
    "#str(wci_data)\n",
    "gci_id <- c(\"GCI.A.01\", \"GCI.A.02\", \"GCI.A.03\", \"GCI.A.04\", \"GCI.B.05\", \"GCI.B.06\", \"GCI.B.07\", \"GCI.B.08\", \"GCI.B.09\", \"GCI.B.10\", \"GCI.C.11\", \"GCI.C.12\")\n",
    "wci_data_all <- wci_data_raw[wci_data_raw$\"GLOBAL ID\" %in% gci_id, ]\n",
    "wci_data_all <- filter(wci_data_all, Attribute == \"Value\", Edition == \"2015-2016\")\n",
    "wci_data_all <- gather(wci_data_all, X0, GCI, -c(1:8))\n",
    "wci_data_all <- mutate(wci_data_all, GCI_s = round(as.numeric(GCI), 2))\n",
    "#wci_data_raw[wci_data_raw$\"GLOBAL ID\" %in% gci_id, ]"
   ]
  },
  {
   "cell_type": "code",
   "execution_count": 294,
   "metadata": {
    "collapsed": false
   },
   "outputs": [],
   "source": [
    "#wci_data_idn <- filter(wci_data_all, X0 %in% c(\"IDN\", \"SGP\"))\n",
    "wci_data_idn <- filter(wci_data_all, X0 == \"IDN\")\n",
    "wci_data_idn <- select(wci_data_idn, X0, Series, GCI_s)\n",
    "wci_data_idn <- spread(wci_data_idn, Series, GCI_s)\n",
    "\n",
    "\n",
    "wci_data_avg_asean <- filter(wci_data_all, X0 %in% asean)\n",
    "wci_data_avg_asean <- group_by(wci_data_avg_asean, Series)\n",
    "wci_data_avg_asean <- summarise(wci_data_avg_asean, GCI_s = mean(GCI_s, na.rm = TRUE))\n",
    "wci_data_avg_asean <- spread(wci_data_avg_asean, Series, GCI_s)\n",
    "wci_data_avg_asean <- mutate(wci_data_avg_asean, X0 = \"ASEAN\")\n",
    "\n",
    "wci_data_world <- group_by(wci_data_all, Series) %>%\n",
    "    summarise(GCI_s = mean(GCI_s, na.rm = TRUE)) %>%\n",
    "    spread(Series, GCI_s) %>%\n",
    "    mutate(X0 = \"WORLD\")\n",
    "\n",
    "\n",
    "wci_data_combined_1 <- rbind(wci_data_idn, wci_data_avg_asean)\n",
    "wci_data_combined_2 <- rbind(wci_data_idn, wci_data_world)\n",
    "#wci_data_combined\n",
    "#wci_data_avg_asean[1,]\n",
    "#wci_data_avg_asean #[2:13]\n"
   ]
  },
  {
   "cell_type": "code",
   "execution_count": 296,
   "metadata": {
    "collapsed": false,
    "scrolled": true
   },
   "outputs": [
    {
     "data": {
      "text/html": [
       "<table>\n",
       "<thead><tr><th></th><th scope=col>     10th pillar: Market size</th><th scope=col>     11th pillar: Business sophistication </th><th scope=col>     12th pillar: Innovation</th><th scope=col>     1st pillar: Institutions</th><th scope=col>     2nd pillar: Infrastructure</th><th scope=col>     3rd pillar: Macroeconomic environment</th><th scope=col>     4th pillar: Health and primary education</th><th scope=col>     5th pillar: Higher education and training</th><th scope=col>     6th pillar: Goods market efficiency</th><th scope=col>     7th pillar: Labor market efficiency</th><th scope=col>     8th pillar: Financial market development</th><th scope=col>     9th pillar: Technological readiness</th></tr></thead>\n",
       "<tbody>\n",
       "\t<tr><th scope=row>1</th><td>7.000000</td><td>7.000000</td><td>7.000000</td><td>7.000000</td><td>7.000000</td><td>7.000000</td><td>7.0000  </td><td>7.000000</td><td>7.000000</td><td>7.000000</td><td>7.000000</td><td>7.0000  </td></tr>\n",
       "\t<tr><th scope=row>2</th><td>0.000000</td><td>0.000000</td><td>0.000000</td><td>0.000000</td><td>0.000000</td><td>0.000000</td><td>0.0000  </td><td>0.000000</td><td>0.000000</td><td>0.000000</td><td>0.000000</td><td>0.0000  </td></tr>\n",
       "\t<tr><th scope=row>IDN</th><td>5.740000</td><td>4.350000</td><td>3.940000</td><td>4.090000</td><td>4.190000</td><td>5.500000</td><td>5.5900  </td><td>4.450000</td><td>4.430000</td><td>3.740000</td><td>4.190000</td><td>3.4900  </td></tr>\n",
       "\t<tr><th scope=row>WORLD</th><td>3.885714</td><td>4.045714</td><td>3.519286</td><td>4.048714</td><td>4.015286</td><td>4.774643</td><td>5.4965  </td><td>4.235286</td><td>4.356643</td><td>4.220786</td><td>3.910571</td><td>4.0645  </td></tr>\n",
       "</tbody>\n",
       "</table>\n"
      ],
      "text/latex": [
       "\\begin{tabular}{r|llllllllllll}\n",
       "  &      10th pillar: Market size &      11th pillar: Business sophistication  &      12th pillar: Innovation &      1st pillar: Institutions &      2nd pillar: Infrastructure &      3rd pillar: Macroeconomic environment &      4th pillar: Health and primary education &      5th pillar: Higher education and training &      6th pillar: Goods market efficiency &      7th pillar: Labor market efficiency &      8th pillar: Financial market development &      9th pillar: Technological readiness\\\\\n",
       "\\hline\n",
       "\t1 & 7.000000 & 7.000000 & 7.000000 & 7.000000 & 7.000000 & 7.000000 & 7.0000   & 7.000000 & 7.000000 & 7.000000 & 7.000000 & 7.0000  \\\\\n",
       "\t2 & 0.000000 & 0.000000 & 0.000000 & 0.000000 & 0.000000 & 0.000000 & 0.0000   & 0.000000 & 0.000000 & 0.000000 & 0.000000 & 0.0000  \\\\\n",
       "\tIDN & 5.740000 & 4.350000 & 3.940000 & 4.090000 & 4.190000 & 5.500000 & 5.5900   & 4.450000 & 4.430000 & 3.740000 & 4.190000 & 3.4900  \\\\\n",
       "\tWORLD & 3.885714 & 4.045714 & 3.519286 & 4.048714 & 4.015286 & 4.774643 & 5.4965   & 4.235286 & 4.356643 & 4.220786 & 3.910571 & 4.0645  \\\\\n",
       "\\end{tabular}\n"
      ],
      "text/plain": [
       "           10th pillar: Market size      11th pillar: Business sophistication \n",
       "1     7.000000                      7.000000                                  \n",
       "2     0.000000                      0.000000                                  \n",
       "IDN   5.740000                      4.350000                                  \n",
       "WORLD 3.885714                      4.045714                                  \n",
       "           12th pillar: Innovation      1st pillar: Institutions\n",
       "1     7.000000                     7.000000                     \n",
       "2     0.000000                     0.000000                     \n",
       "IDN   3.940000                     4.090000                     \n",
       "WORLD 3.519286                     4.048714                     \n",
       "           2nd pillar: Infrastructure\n",
       "1     7.000000                       \n",
       "2     0.000000                       \n",
       "IDN   4.190000                       \n",
       "WORLD 4.015286                       \n",
       "           3rd pillar: Macroeconomic environment\n",
       "1     7.000000                                  \n",
       "2     0.000000                                  \n",
       "IDN   5.500000                                  \n",
       "WORLD 4.774643                                  \n",
       "           4th pillar: Health and primary education\n",
       "1     7.0000                                       \n",
       "2     0.0000                                       \n",
       "IDN   5.5900                                       \n",
       "WORLD 5.4965                                       \n",
       "           5th pillar: Higher education and training\n",
       "1     7.000000                                      \n",
       "2     0.000000                                      \n",
       "IDN   4.450000                                      \n",
       "WORLD 4.235286                                      \n",
       "           6th pillar: Goods market efficiency\n",
       "1     7.000000                                \n",
       "2     0.000000                                \n",
       "IDN   4.430000                                \n",
       "WORLD 4.356643                                \n",
       "           7th pillar: Labor market efficiency\n",
       "1     7.000000                                \n",
       "2     0.000000                                \n",
       "IDN   3.740000                                \n",
       "WORLD 4.220786                                \n",
       "           8th pillar: Financial market development\n",
       "1     7.000000                                     \n",
       "2     0.000000                                     \n",
       "IDN   4.190000                                     \n",
       "WORLD 3.910571                                     \n",
       "           9th pillar: Technological readiness\n",
       "1     7.0000                                  \n",
       "2     0.0000                                  \n",
       "IDN   3.4900                                  \n",
       "WORLD 4.0645                                  "
      ]
     },
     "metadata": {},
     "output_type": "display_data"
    },
    {
     "data": {
      "image/png": "[encoded data removed]",
      "text/plain": [
       "Plot with title \"\""
      ]
     },
     "metadata": {},
     "output_type": "display_data"
    }
   ],
   "source": [
    "# Library\n",
    "library(fmsb)\n",
    "data=as.data.frame(wci_data_combined_2[2:13])\n",
    "#colnames(data)=c(\"Institutions\" , \"Infrastructure\" , \"Macroeconomic Environment\" , \"Health and Primary Education\" , \n",
    "#                 \"Higher Education & Training\", \"Goods Market Efficiency\", \"Labour Market Efficiency\", \"Financial Market Development\",\n",
    "#                 \"Technological Readiness\", \"Market Size\", \"Business Sophistication\", \"Innovation\")\n",
    "rownames(data)=c(\"IDN\", \"WORLD\")\n",
    "data=rbind(rep(7,12) , rep(0,12) , data)\n",
    "data\n",
    "\n",
    "colors_border=c( rgb(0.2,0.5,0.5,0.9), rgb(0.8,0.2,0.5,0.9) ) # , rgb(0.7,0.5,0.1,0.9) )\n",
    "colors_in=c( rgb(0.2,0.5,0.5,0.4), rgb(0.8,0.2,0.5,0.4) ) # , rgb(0.7,0.5,0.1,0.4) )\n",
    "radarchart( data  , axistype=1 , \n",
    "    #custom polygon\n",
    "    pcol=colors_border , pfcol=colors_in , plwd=4 , plty=1,\n",
    "    #custom the grid\n",
    "    cglcol=\"grey\", cglty=1, axislabcol=\"grey\", caxislabels=seq(0,7,1.7), cglwd=0.8,\n",
    "    #custom labels\n",
    "    vlcex=0.8 \n",
    "    )\n",
    "legend(x=0.7, y=1, legend = rownames(data[-c(1,2),]), bty = \"n\", pch=20 , col=colors_in , text.col = \"grey\", cex=1.2, pt.cex=3)"
   ]
  },
  {
   "cell_type": "code",
   "execution_count": null,
   "metadata": {
    "collapsed": false
   },
   "outputs": [],
   "source": []
  },
  {
   "cell_type": "code",
   "execution_count": 306,
   "metadata": {
    "collapsed": true
   },
   "outputs": [
    {
     "data": {
      "text/html": [
       "<pre class=language-r><code>function (country = \"all\", indicator = \"NY.GNS.ICTR.GN.ZS\", start = 2005, \n",
       "<span style=white-space:pre-wrap>    end = 2011, extra = FALSE, cache = NULL) </span>\n",
       "{\n",
       "<span style=white-space:pre-wrap>    indicator = gsub(\"[^a-zA-Z0-9\\\\.]\", \"\", indicator)</span>\n",
       "<span style=white-space:pre-wrap>    country = gsub(\"[^a-zA-Z0-9]\", \"\", country)</span>\n",
       "<span style=white-space:pre-wrap>    if (!(\"all\" %in% country)) {</span>\n",
       "<span style=white-space:pre-wrap>        country_bad = country[!(country %in% WDI_data$country[, </span>\n",
       "<span style=white-space:pre-wrap>            \"iso2c\"])]</span>\n",
       "<span style=white-space:pre-wrap>        country = country[!(country %in% country_bad)]</span>\n",
       "<span style=white-space:pre-wrap>        if (length(country_bad) &gt; 0) {</span>\n",
       "<span style=white-space:pre-wrap>            warning(paste(\"Unable to download data on countries: \", </span>\n",
       "<span style=white-space:pre-wrap>                paste(country_bad, collapse = \", \")))</span>\n",
       "<span style=white-space:pre-wrap>        }</span>\n",
       "<span style=white-space:pre-wrap>        if (length(country) &gt; 0) {</span>\n",
       "<span style=white-space:pre-wrap>            country = paste(country, collapse = \";\")</span>\n",
       "<span style=white-space:pre-wrap>        }</span>\n",
       "<span style=white-space:pre-wrap>        else {</span>\n",
       "<span style=white-space:pre-wrap>            stop(\"No valid country was requested\")</span>\n",
       "<span style=white-space:pre-wrap>        }</span>\n",
       "<span style=white-space:pre-wrap>    }</span>\n",
       "<span style=white-space:pre-wrap>    else {</span>\n",
       "<span style=white-space:pre-wrap>        country = \"all\"</span>\n",
       "<span style=white-space:pre-wrap>    }</span>\n",
       "<span style=white-space:pre-wrap>    if (!(start &lt;= end)) {</span>\n",
       "<span style=white-space:pre-wrap>        stop(\"start/end must be integers with start &lt;= end\")</span>\n",
       "<span style=white-space:pre-wrap>    }</span>\n",
       "<span style=white-space:pre-wrap>    dat = lapply(indicator, function(j) try(wdi.dl(j, country, </span>\n",
       "<span style=white-space:pre-wrap>        start, end), silent = TRUE))</span>\n",
       "<span style=white-space:pre-wrap>    good = unlist(lapply(dat, function(i) class(i)) == \"data.frame\")</span>\n",
       "<span style=white-space:pre-wrap>    if (any(!good)) {</span>\n",
       "<span style=white-space:pre-wrap>        warning(paste(\"Unable to download indicators \", paste(indicator[!good], </span>\n",
       "<span style=white-space:pre-wrap>            collapse = \" ; \")))</span>\n",
       "<span style=white-space:pre-wrap>    }</span>\n",
       "<span style=white-space:pre-wrap>    dat = dat[good]</span>\n",
       "<span style=white-space:pre-wrap>    dat = Reduce(function(x, y) merge(x, y, all = TRUE), dat)</span>\n",
       "<span style=white-space:pre-wrap>    if (!is.null(cache)) {</span>\n",
       "<span style=white-space:pre-wrap>        country_data = cache$country</span>\n",
       "<span style=white-space:pre-wrap>    }</span>\n",
       "<span style=white-space:pre-wrap>    else {</span>\n",
       "<span style=white-space:pre-wrap>        country_data = WDI_data$country</span>\n",
       "<span style=white-space:pre-wrap>    }</span>\n",
       "<span style=white-space:pre-wrap>    if (extra == TRUE) {</span>\n",
       "<span style=white-space:pre-wrap>        dat = merge(dat, country_data, all.x = TRUE)</span>\n",
       "<span style=white-space:pre-wrap>    }</span>\n",
       "<span style=white-space:pre-wrap>    countries = country[country != \"all\" &amp; !(country %in% dat$iso2c)]</span>\n",
       "<span style=white-space:pre-wrap>    if (length(countries) &gt; 0) {</span>\n",
       "<span style=white-space:pre-wrap>    }</span>\n",
       "<span style=white-space:pre-wrap>    return(dat)</span>\n",
       "}</code></pre>"
      ],
      "text/latex": [
       "\\begin{minted}{r}\n",
       "function (country = \"all\", indicator = \"NY.GNS.ICTR.GN.ZS\", start = 2005, \n",
       "    end = 2011, extra = FALSE, cache = NULL) \n",
       "\\{\n",
       "    indicator = gsub(\"{[}\\textasciicircum{}a-zA-Z0-9\\textbackslash{}\\textbackslash{}.{]}\", \"\", indicator)\n",
       "    country = gsub(\"{[}\\textasciicircum{}a-zA-Z0-9{]}\", \"\", country)\n",
       "    if (!(\"all\" \\%in\\% country)) \\{\n",
       "        country\\_bad = country{[}!(country \\%in\\% WDI\\_data\\$country{[}, \n",
       "            \"iso2c\"{]}){]}\n",
       "        country = country{[}!(country \\%in\\% country\\_bad){]}\n",
       "        if (length(country\\_bad) > 0) \\{\n",
       "            warning(paste(\"Unable to download data on countries: \", \n",
       "                paste(country\\_bad, collapse = \", \")))\n",
       "        \\}\n",
       "        if (length(country) > 0) \\{\n",
       "            country = paste(country, collapse = \";\")\n",
       "        \\}\n",
       "        else \\{\n",
       "            stop(\"No valid country was requested\")\n",
       "        \\}\n",
       "    \\}\n",
       "    else \\{\n",
       "        country = \"all\"\n",
       "    \\}\n",
       "    if (!(start <= end)) \\{\n",
       "        stop(\"start/end must be integers with start <= end\")\n",
       "    \\}\n",
       "    dat = lapply(indicator, function(j) try(wdi.dl(j, country, \n",
       "        start, end), silent = TRUE))\n",
       "    good = unlist(lapply(dat, function(i) class(i)) == \"data.frame\")\n",
       "    if (any(!good)) \\{\n",
       "        warning(paste(\"Unable to download indicators \", paste(indicator{[}!good{]}, \n",
       "            collapse = \" ; \")))\n",
       "    \\}\n",
       "    dat = dat{[}good{]}\n",
       "    dat = Reduce(function(x, y) merge(x, y, all = TRUE), dat)\n",
       "    if (!is.null(cache)) \\{\n",
       "        country\\_data = cache\\$country\n",
       "    \\}\n",
       "    else \\{\n",
       "        country\\_data = WDI\\_data\\$country\n",
       "    \\}\n",
       "    if (extra == TRUE) \\{\n",
       "        dat = merge(dat, country\\_data, all.x = TRUE)\n",
       "    \\}\n",
       "    countries = country{[}country != \"all\" \\& !(country \\%in\\% dat\\$iso2c){]}\n",
       "    if (length(countries) > 0) \\{\n",
       "    \\}\n",
       "    return(dat)\n",
       "\\}\n",
       "\\end{minted}"
      ],
      "text/markdown": [
       "```r\n",
       "function (country = \"all\", indicator = \"NY.GNS.ICTR.GN.ZS\", start = 2005, \n",
       "    end = 2011, extra = FALSE, cache = NULL) \n",
       "{\n",
       "    indicator = gsub(\"[^a-zA-Z0-9\\\\.]\", \"\", indicator)\n",
       "    country = gsub(\"[^a-zA-Z0-9]\", \"\", country)\n",
       "    if (!(\"all\" %in% country)) {\n",
       "        country_bad = country[!(country %in% WDI_data$country[, \n",
       "            \"iso2c\"])]\n",
       "        country = country[!(country %in% country_bad)]\n",
       "        if (length(country_bad) > 0) {\n",
       "            warning(paste(\"Unable to download data on countries: \", \n",
       "                paste(country_bad, collapse = \", \")))\n",
       "        }\n",
       "        if (length(country) > 0) {\n",
       "            country = paste(country, collapse = \";\")\n",
       "        }\n",
       "        else {\n",
       "            stop(\"No valid country was requested\")\n",
       "        }\n",
       "    }\n",
       "    else {\n",
       "        country = \"all\"\n",
       "    }\n",
       "    if (!(start <= end)) {\n",
       "        stop(\"start/end must be integers with start <= end\")\n",
       "    }\n",
       "    dat = lapply(indicator, function(j) try(wdi.dl(j, country, \n",
       "        start, end), silent = TRUE))\n",
       "    good = unlist(lapply(dat, function(i) class(i)) == \"data.frame\")\n",
       "    if (any(!good)) {\n",
       "        warning(paste(\"Unable to download indicators \", paste(indicator[!good], \n",
       "            collapse = \" ; \")))\n",
       "    }\n",
       "    dat = dat[good]\n",
       "    dat = Reduce(function(x, y) merge(x, y, all = TRUE), dat)\n",
       "    if (!is.null(cache)) {\n",
       "        country_data = cache$country\n",
       "    }\n",
       "    else {\n",
       "        country_data = WDI_data$country\n",
       "    }\n",
       "    if (extra == TRUE) {\n",
       "        dat = merge(dat, country_data, all.x = TRUE)\n",
       "    }\n",
       "    countries = country[country != \"all\" & !(country %in% dat$iso2c)]\n",
       "    if (length(countries) > 0) {\n",
       "    }\n",
       "    return(dat)\n",
       "}\n",
       "```"
      ],
      "text/plain": [
       "function (country = \"all\", indicator = \"NY.GNS.ICTR.GN.ZS\", start = 2005, \n",
       "    end = 2011, extra = FALSE, cache = NULL) \n",
       "{\n",
       "    indicator = gsub(\"[^a-zA-Z0-9\\\\.]\", \"\", indicator)\n",
       "    country = gsub(\"[^a-zA-Z0-9]\", \"\", country)\n",
       "    if (!(\"all\" %in% country)) {\n",
       "        country_bad = country[!(country %in% WDI_data$country[, \n",
       "            \"iso2c\"])]\n",
       "        country = country[!(country %in% country_bad)]\n",
       "        if (length(country_bad) > 0) {\n",
       "            warning(paste(\"Unable to download data on countries: \", \n",
       "                paste(country_bad, collapse = \", \")))\n",
       "        }\n",
       "        if (length(country) > 0) {\n",
       "            country = paste(country, collapse = \";\")\n",
       "        }\n",
       "        else {\n",
       "            stop(\"No valid country was requested\")\n",
       "        }\n",
       "    }\n",
       "    else {\n",
       "        country = \"all\"\n",
       "    }\n",
       "    if (!(start <= end)) {\n",
       "        stop(\"start/end must be integers with start <= end\")\n",
       "    }\n",
       "    dat = lapply(indicator, function(j) try(wdi.dl(j, country, \n",
       "        start, end), silent = TRUE))\n",
       "    good = unlist(lapply(dat, function(i) class(i)) == \"data.frame\")\n",
       "    if (any(!good)) {\n",
       "        warning(paste(\"Unable to download indicators \", paste(indicator[!good], \n",
       "            collapse = \" ; \")))\n",
       "    }\n",
       "    dat = dat[good]\n",
       "    dat = Reduce(function(x, y) merge(x, y, all = TRUE), dat)\n",
       "    if (!is.null(cache)) {\n",
       "        country_data = cache$country\n",
       "    }\n",
       "    else {\n",
       "        country_data = WDI_data$country\n",
       "    }\n",
       "    if (extra == TRUE) {\n",
       "        dat = merge(dat, country_data, all.x = TRUE)\n",
       "    }\n",
       "    countries = country[country != \"all\" & !(country %in% dat$iso2c)]\n",
       "    if (length(countries) > 0) {\n",
       "    }\n",
       "    return(dat)\n",
       "}\n",
       "<environment: namespace:WDI>"
      ]
     },
     "metadata": {},
     "output_type": "display_data"
    }
   ],
   "source": [
    "library(WDI)\n",
    "\n",
    "WDI"
   ]
  },
  {
   "cell_type": "code",
   "execution_count": 34,
   "metadata": {
    "collapsed": false
   },
   "outputs": [
    {
     "data": {
      "text/html": [
       "<table>\n",
       "<thead><tr><th scope=col>Series</th><th scope=col>GLOBAL ID</th><th scope=col>GCI_s</th><th scope=col>year</th></tr></thead>\n",
       "<tbody>\n",
       "\t<tr><td>     1st pillar: Institutions                 </td><td>GCI.A.01                                      </td><td>4.09                                          </td><td>2016                                          </td></tr>\n",
       "\t<tr><td>     2nd pillar: Infrastructure               </td><td>GCI.A.02                                      </td><td>4.19                                          </td><td>2016                                          </td></tr>\n",
       "\t<tr><td>     3rd pillar: Macroeconomic environment    </td><td>GCI.A.03                                      </td><td>5.50                                          </td><td>2016                                          </td></tr>\n",
       "\t<tr><td>     4th pillar: Health and primary education </td><td>GCI.A.04                                      </td><td>5.59                                          </td><td>2016                                          </td></tr>\n",
       "\t<tr><td>     5th pillar: Higher education and training</td><td>GCI.B.05                                      </td><td>4.45                                          </td><td>2016                                          </td></tr>\n",
       "\t<tr><td>     6th pillar: Goods market efficiency      </td><td>GCI.B.06                                      </td><td>4.43                                          </td><td>2016                                          </td></tr>\n",
       "\t<tr><td>     7th pillar: Labor market efficiency      </td><td>GCI.B.07                                      </td><td>3.74                                          </td><td>2016                                          </td></tr>\n",
       "\t<tr><td>     8th pillar: Financial market development </td><td>GCI.B.08                                      </td><td>4.19                                          </td><td>2016                                          </td></tr>\n",
       "\t<tr><td>     9th pillar: Technological readiness      </td><td>GCI.B.09                                      </td><td>3.49                                          </td><td>2016                                          </td></tr>\n",
       "\t<tr><td>     10th pillar: Market size                 </td><td>GCI.B.10                                      </td><td>5.74                                          </td><td>2016                                          </td></tr>\n",
       "\t<tr><td>     11th pillar: Business sophistication     </td><td>GCI.C.11                                      </td><td>4.35                                          </td><td>2016                                          </td></tr>\n",
       "\t<tr><td>     12th pillar: Innovation                  </td><td>GCI.C.12                                      </td><td>3.94                                          </td><td>2016                                          </td></tr>\n",
       "\t<tr><td>Global Competitiveness Index                  </td><td>GCI                                           </td><td>4.52                                          </td><td>2016                                          </td></tr>\n",
       "\t<tr><td>     1st pillar: Institutions                 </td><td>GCI.A.01                                      </td><td>4.11                                          </td><td>2015                                          </td></tr>\n",
       "\t<tr><td>     2nd pillar: Infrastructure               </td><td>GCI.A.02                                      </td><td>4.37                                          </td><td>2015                                          </td></tr>\n",
       "\t<tr><td>     3rd pillar: Macroeconomic environment    </td><td>GCI.A.03                                      </td><td>5.48                                          </td><td>2015                                          </td></tr>\n",
       "\t<tr><td>     4th pillar: Health and primary education </td><td>GCI.A.04                                      </td><td>5.67                                          </td><td>2015                                          </td></tr>\n",
       "\t<tr><td>     5th pillar: Higher education and training</td><td>GCI.B.05                                      </td><td>4.53                                          </td><td>2015                                          </td></tr>\n",
       "\t<tr><td>     6th pillar: Goods market efficiency      </td><td>GCI.B.06                                      </td><td>4.54                                          </td><td>2015                                          </td></tr>\n",
       "\t<tr><td>     7th pillar: Labor market efficiency      </td><td>GCI.B.07                                      </td><td>3.81                                          </td><td>2015                                          </td></tr>\n",
       "\t<tr><td>     8th pillar: Financial market development </td><td>GCI.B.08                                      </td><td>4.45                                          </td><td>2015                                          </td></tr>\n",
       "\t<tr><td>     9th pillar: Technological readiness      </td><td>GCI.B.09                                      </td><td>3.58                                          </td><td>2015                                          </td></tr>\n",
       "\t<tr><td>     10th pillar: Market size                 </td><td>GCI.B.10                                      </td><td>5.34                                          </td><td>2015                                          </td></tr>\n",
       "\t<tr><td>     11th pillar: Business sophistication     </td><td>GCI.C.11                                      </td><td>4.47                                          </td><td>2015                                          </td></tr>\n",
       "\t<tr><td>     12th pillar: Innovation                  </td><td>GCI.C.12                                      </td><td>3.93                                          </td><td>2015                                          </td></tr>\n",
       "\t<tr><td>Global Competitiveness Index                  </td><td>GCI                                           </td><td>4.57                                          </td><td>2015                                          </td></tr>\n",
       "\t<tr><td>     1st pillar: Institutions                 </td><td>GCI.A.01                                      </td><td>3.97                                          </td><td>2014                                          </td></tr>\n",
       "\t<tr><td>     2nd pillar: Infrastructure               </td><td>GCI.A.02                                      </td><td>4.17                                          </td><td>2014                                          </td></tr>\n",
       "\t<tr><td>     3rd pillar: Macroeconomic environment    </td><td>GCI.A.03                                      </td><td>5.75                                          </td><td>2014                                          </td></tr>\n",
       "\t<tr><td>     4th pillar: Health and primary education </td><td>GCI.A.04                                      </td><td>5.71                                          </td><td>2014                                          </td></tr>\n",
       "\t<tr><td>...</td><td>...</td><td>...</td><td>...</td></tr>\n",
       "\t<tr><td>     10th pillar: Market size                 </td><td>GCI.B.10                                      </td><td>5.11                                          </td><td>2009                                          </td></tr>\n",
       "\t<tr><td>     11th pillar: Business sophistication     </td><td>GCI.C.11                                      </td><td>4.55                                          </td><td>2009                                          </td></tr>\n",
       "\t<tr><td>     12th pillar: Innovation                  </td><td>GCI.C.12                                      </td><td>3.42                                          </td><td>2009                                          </td></tr>\n",
       "\t<tr><td>Global Competitiveness Index                  </td><td>GCI                                           </td><td>4.25                                          </td><td>2009                                          </td></tr>\n",
       "\t<tr><td>     1st pillar: Institutions                 </td><td>GCI.A.01                                      </td><td>3.90                                          </td><td>2008                                          </td></tr>\n",
       "\t<tr><td>     2nd pillar: Infrastructure               </td><td>GCI.A.02                                      </td><td>2.74                                          </td><td>2008                                          </td></tr>\n",
       "\t<tr><td>     3rd pillar: Macroeconomic environment    </td><td>GCI.A.03                                      </td><td>4.59                                          </td><td>2008                                          </td></tr>\n",
       "\t<tr><td>     4th pillar: Health and primary education </td><td>GCI.A.04                                      </td><td>5.31                                          </td><td>2008                                          </td></tr>\n",
       "\t<tr><td>     5th pillar: Higher education and training</td><td>GCI.B.05                                      </td><td>4.00                                          </td><td>2008                                          </td></tr>\n",
       "\t<tr><td>     6th pillar: Goods market efficiency      </td><td>GCI.B.06                                      </td><td>5.06                                          </td><td>2008                                          </td></tr>\n",
       "\t<tr><td>     7th pillar: Labor market efficiency      </td><td>GCI.B.07                                      </td><td>4.74                                          </td><td>2008                                          </td></tr>\n",
       "\t<tr><td>     8th pillar: Financial market development </td><td>GCI.B.08                                      </td><td>4.65                                          </td><td>2008                                          </td></tr>\n",
       "\t<tr><td>     9th pillar: Technological readiness      </td><td>GCI.B.09                                      </td><td>2.99                                          </td><td>2008                                          </td></tr>\n",
       "\t<tr><td>     10th pillar: Market size                 </td><td>GCI.B.10                                      </td><td>5.17                                          </td><td>2008                                          </td></tr>\n",
       "\t<tr><td>     11th pillar: Business sophistication     </td><td>GCI.C.11                                      </td><td>4.65                                          </td><td>2008                                          </td></tr>\n",
       "\t<tr><td>     12th pillar: Innovation                  </td><td>GCI.C.12                                      </td><td>3.56                                          </td><td>2008                                          </td></tr>\n",
       "\t<tr><td>Global Competitiveness Index                  </td><td>GCI                                           </td><td>4.24                                          </td><td>2008                                          </td></tr>\n",
       "\t<tr><td>     1st pillar: Institutions                 </td><td>GCI.A.01                                      </td><td>3.75                                          </td><td>2007                                          </td></tr>\n",
       "\t<tr><td>     2nd pillar: Infrastructure               </td><td>GCI.A.02                                      </td><td>2.81                                          </td><td>2007                                          </td></tr>\n",
       "\t<tr><td>     3rd pillar: Macroeconomic environment    </td><td>GCI.A.03                                      </td><td>4.80                                          </td><td>2007                                          </td></tr>\n",
       "\t<tr><td>     4th pillar: Health and primary education </td><td>GCI.A.04                                      </td><td>5.41                                          </td><td>2007                                          </td></tr>\n",
       "\t<tr><td>     5th pillar: Higher education and training</td><td>GCI.B.05                                      </td><td>3.77                                          </td><td>2007                                          </td></tr>\n",
       "\t<tr><td>     6th pillar: Goods market efficiency      </td><td>GCI.B.06                                      </td><td>4.69                                          </td><td>2007                                          </td></tr>\n",
       "\t<tr><td>     7th pillar: Labor market efficiency      </td><td>GCI.B.07                                      </td><td>4.34                                          </td><td>2007                                          </td></tr>\n",
       "\t<tr><td>     8th pillar: Financial market development </td><td>GCI.B.08                                      </td><td>4.25                                          </td><td>2007                                          </td></tr>\n",
       "\t<tr><td>     9th pillar: Technological readiness      </td><td>GCI.B.09                                      </td><td>2.79                                          </td><td>2007                                          </td></tr>\n",
       "\t<tr><td>     10th pillar: Market size                 </td><td>GCI.B.10                                      </td><td>5.41                                          </td><td>2007                                          </td></tr>\n",
       "\t<tr><td>     11th pillar: Business sophistication     </td><td>GCI.C.11                                      </td><td>4.33                                          </td><td>2007                                          </td></tr>\n",
       "\t<tr><td>     12th pillar: Innovation                  </td><td>GCI.C.12                                      </td><td>3.49                                          </td><td>2007                                          </td></tr>\n",
       "\t<tr><td>Global Competitiveness Index                  </td><td>GCI                                           </td><td>4.18                                          </td><td>2007                                          </td></tr>\n",
       "</tbody>\n",
       "</table>\n"
      ],
      "text/latex": [
       "\\begin{tabular}{r|llll}\n",
       " Series & GLOBAL ID & GCI\\_s & year\\\\\n",
       "\\hline\n",
       "\t      1st pillar: Institutions                  & GCI.A.01                                       & 4.09                                           & 2016                                          \\\\\n",
       "\t      2nd pillar: Infrastructure                & GCI.A.02                                       & 4.19                                           & 2016                                          \\\\\n",
       "\t      3rd pillar: Macroeconomic environment     & GCI.A.03                                       & 5.50                                           & 2016                                          \\\\\n",
       "\t      4th pillar: Health and primary education  & GCI.A.04                                       & 5.59                                           & 2016                                          \\\\\n",
       "\t      5th pillar: Higher education and training & GCI.B.05                                       & 4.45                                           & 2016                                          \\\\\n",
       "\t      6th pillar: Goods market efficiency       & GCI.B.06                                       & 4.43                                           & 2016                                          \\\\\n",
       "\t      7th pillar: Labor market efficiency       & GCI.B.07                                       & 3.74                                           & 2016                                          \\\\\n",
       "\t      8th pillar: Financial market development  & GCI.B.08                                       & 4.19                                           & 2016                                          \\\\\n",
       "\t      9th pillar: Technological readiness       & GCI.B.09                                       & 3.49                                           & 2016                                          \\\\\n",
       "\t      10th pillar: Market size                  & GCI.B.10                                       & 5.74                                           & 2016                                          \\\\\n",
       "\t      11th pillar: Business sophistication      & GCI.C.11                                       & 4.35                                           & 2016                                          \\\\\n",
       "\t      12th pillar: Innovation                   & GCI.C.12                                       & 3.94                                           & 2016                                          \\\\\n",
       "\t Global Competitiveness Index                   & GCI                                            & 4.52                                           & 2016                                          \\\\\n",
       "\t      1st pillar: Institutions                  & GCI.A.01                                       & 4.11                                           & 2015                                          \\\\\n",
       "\t      2nd pillar: Infrastructure                & GCI.A.02                                       & 4.37                                           & 2015                                          \\\\\n",
       "\t      3rd pillar: Macroeconomic environment     & GCI.A.03                                       & 5.48                                           & 2015                                          \\\\\n",
       "\t      4th pillar: Health and primary education  & GCI.A.04                                       & 5.67                                           & 2015                                          \\\\\n",
       "\t      5th pillar: Higher education and training & GCI.B.05                                       & 4.53                                           & 2015                                          \\\\\n",
       "\t      6th pillar: Goods market efficiency       & GCI.B.06                                       & 4.54                                           & 2015                                          \\\\\n",
       "\t      7th pillar: Labor market efficiency       & GCI.B.07                                       & 3.81                                           & 2015                                          \\\\\n",
       "\t      8th pillar: Financial market development  & GCI.B.08                                       & 4.45                                           & 2015                                          \\\\\n",
       "\t      9th pillar: Technological readiness       & GCI.B.09                                       & 3.58                                           & 2015                                          \\\\\n",
       "\t      10th pillar: Market size                  & GCI.B.10                                       & 5.34                                           & 2015                                          \\\\\n",
       "\t      11th pillar: Business sophistication      & GCI.C.11                                       & 4.47                                           & 2015                                          \\\\\n",
       "\t      12th pillar: Innovation                   & GCI.C.12                                       & 3.93                                           & 2015                                          \\\\\n",
       "\t Global Competitiveness Index                   & GCI                                            & 4.57                                           & 2015                                          \\\\\n",
       "\t      1st pillar: Institutions                  & GCI.A.01                                       & 3.97                                           & 2014                                          \\\\\n",
       "\t      2nd pillar: Infrastructure                & GCI.A.02                                       & 4.17                                           & 2014                                          \\\\\n",
       "\t      3rd pillar: Macroeconomic environment     & GCI.A.03                                       & 5.75                                           & 2014                                          \\\\\n",
       "\t      4th pillar: Health and primary education  & GCI.A.04                                       & 5.71                                           & 2014                                          \\\\\n",
       "\t ... & ... & ... & ...\\\\\n",
       "\t      10th pillar: Market size                  & GCI.B.10                                       & 5.11                                           & 2009                                          \\\\\n",
       "\t      11th pillar: Business sophistication      & GCI.C.11                                       & 4.55                                           & 2009                                          \\\\\n",
       "\t      12th pillar: Innovation                   & GCI.C.12                                       & 3.42                                           & 2009                                          \\\\\n",
       "\t Global Competitiveness Index                   & GCI                                            & 4.25                                           & 2009                                          \\\\\n",
       "\t      1st pillar: Institutions                  & GCI.A.01                                       & 3.90                                           & 2008                                          \\\\\n",
       "\t      2nd pillar: Infrastructure                & GCI.A.02                                       & 2.74                                           & 2008                                          \\\\\n",
       "\t      3rd pillar: Macroeconomic environment     & GCI.A.03                                       & 4.59                                           & 2008                                          \\\\\n",
       "\t      4th pillar: Health and primary education  & GCI.A.04                                       & 5.31                                           & 2008                                          \\\\\n",
       "\t      5th pillar: Higher education and training & GCI.B.05                                       & 4.00                                           & 2008                                          \\\\\n",
       "\t      6th pillar: Goods market efficiency       & GCI.B.06                                       & 5.06                                           & 2008                                          \\\\\n",
       "\t      7th pillar: Labor market efficiency       & GCI.B.07                                       & 4.74                                           & 2008                                          \\\\\n",
       "\t      8th pillar: Financial market development  & GCI.B.08                                       & 4.65                                           & 2008                                          \\\\\n",
       "\t      9th pillar: Technological readiness       & GCI.B.09                                       & 2.99                                           & 2008                                          \\\\\n",
       "\t      10th pillar: Market size                  & GCI.B.10                                       & 5.17                                           & 2008                                          \\\\\n",
       "\t      11th pillar: Business sophistication      & GCI.C.11                                       & 4.65                                           & 2008                                          \\\\\n",
       "\t      12th pillar: Innovation                   & GCI.C.12                                       & 3.56                                           & 2008                                          \\\\\n",
       "\t Global Competitiveness Index                   & GCI                                            & 4.24                                           & 2008                                          \\\\\n",
       "\t      1st pillar: Institutions                  & GCI.A.01                                       & 3.75                                           & 2007                                          \\\\\n",
       "\t      2nd pillar: Infrastructure                & GCI.A.02                                       & 2.81                                           & 2007                                          \\\\\n",
       "\t      3rd pillar: Macroeconomic environment     & GCI.A.03                                       & 4.80                                           & 2007                                          \\\\\n",
       "\t      4th pillar: Health and primary education  & GCI.A.04                                       & 5.41                                           & 2007                                          \\\\\n",
       "\t      5th pillar: Higher education and training & GCI.B.05                                       & 3.77                                           & 2007                                          \\\\\n",
       "\t      6th pillar: Goods market efficiency       & GCI.B.06                                       & 4.69                                           & 2007                                          \\\\\n",
       "\t      7th pillar: Labor market efficiency       & GCI.B.07                                       & 4.34                                           & 2007                                          \\\\\n",
       "\t      8th pillar: Financial market development  & GCI.B.08                                       & 4.25                                           & 2007                                          \\\\\n",
       "\t      9th pillar: Technological readiness       & GCI.B.09                                       & 2.79                                           & 2007                                          \\\\\n",
       "\t      10th pillar: Market size                  & GCI.B.10                                       & 5.41                                           & 2007                                          \\\\\n",
       "\t      11th pillar: Business sophistication      & GCI.C.11                                       & 4.33                                           & 2007                                          \\\\\n",
       "\t      12th pillar: Innovation                   & GCI.C.12                                       & 3.49                                           & 2007                                          \\\\\n",
       "\t Global Competitiveness Index                   & GCI                                            & 4.18                                           & 2007                                          \\\\\n",
       "\\end{tabular}\n"
      ],
      "text/plain": [
       "    Series                                         GLOBAL ID GCI_s year\n",
       "1        1st pillar: Institutions                  GCI.A.01  4.09  2016\n",
       "2        2nd pillar: Infrastructure                GCI.A.02  4.19  2016\n",
       "3        3rd pillar: Macroeconomic environment     GCI.A.03  5.50  2016\n",
       "4        4th pillar: Health and primary education  GCI.A.04  5.59  2016\n",
       "5        5th pillar: Higher education and training GCI.B.05  4.45  2016\n",
       "6        6th pillar: Goods market efficiency       GCI.B.06  4.43  2016\n",
       "7        7th pillar: Labor market efficiency       GCI.B.07  3.74  2016\n",
       "8        8th pillar: Financial market development  GCI.B.08  4.19  2016\n",
       "9        9th pillar: Technological readiness       GCI.B.09  3.49  2016\n",
       "10       10th pillar: Market size                  GCI.B.10  5.74  2016\n",
       "11       11th pillar: Business sophistication      GCI.C.11  4.35  2016\n",
       "12       12th pillar: Innovation                   GCI.C.12  3.94  2016\n",
       "13  Global Competitiveness Index                   GCI       4.52  2016\n",
       "14       1st pillar: Institutions                  GCI.A.01  4.11  2015\n",
       "15       2nd pillar: Infrastructure                GCI.A.02  4.37  2015\n",
       "16       3rd pillar: Macroeconomic environment     GCI.A.03  5.48  2015\n",
       "17       4th pillar: Health and primary education  GCI.A.04  5.67  2015\n",
       "18       5th pillar: Higher education and training GCI.B.05  4.53  2015\n",
       "19       6th pillar: Goods market efficiency       GCI.B.06  4.54  2015\n",
       "20       7th pillar: Labor market efficiency       GCI.B.07  3.81  2015\n",
       "21       8th pillar: Financial market development  GCI.B.08  4.45  2015\n",
       "22       9th pillar: Technological readiness       GCI.B.09  3.58  2015\n",
       "23       10th pillar: Market size                  GCI.B.10  5.34  2015\n",
       "24       11th pillar: Business sophistication      GCI.C.11  4.47  2015\n",
       "25       12th pillar: Innovation                   GCI.C.12  3.93  2015\n",
       "26  Global Competitiveness Index                   GCI       4.57  2015\n",
       "27       1st pillar: Institutions                  GCI.A.01  3.97  2014\n",
       "28       2nd pillar: Infrastructure                GCI.A.02  4.17  2014\n",
       "29       3rd pillar: Macroeconomic environment     GCI.A.03  5.75  2014\n",
       "30       4th pillar: Health and primary education  GCI.A.04  5.71  2014\n",
       "... ...                                            ...       ...   ... \n",
       "101      10th pillar: Market size                  GCI.B.10  5.11  2009\n",
       "102      11th pillar: Business sophistication      GCI.C.11  4.55  2009\n",
       "103      12th pillar: Innovation                   GCI.C.12  3.42  2009\n",
       "104 Global Competitiveness Index                   GCI       4.25  2009\n",
       "105      1st pillar: Institutions                  GCI.A.01  3.90  2008\n",
       "106      2nd pillar: Infrastructure                GCI.A.02  2.74  2008\n",
       "107      3rd pillar: Macroeconomic environment     GCI.A.03  4.59  2008\n",
       "108      4th pillar: Health and primary education  GCI.A.04  5.31  2008\n",
       "109      5th pillar: Higher education and training GCI.B.05  4.00  2008\n",
       "110      6th pillar: Goods market efficiency       GCI.B.06  5.06  2008\n",
       "111      7th pillar: Labor market efficiency       GCI.B.07  4.74  2008\n",
       "112      8th pillar: Financial market development  GCI.B.08  4.65  2008\n",
       "113      9th pillar: Technological readiness       GCI.B.09  2.99  2008\n",
       "114      10th pillar: Market size                  GCI.B.10  5.17  2008\n",
       "115      11th pillar: Business sophistication      GCI.C.11  4.65  2008\n",
       "116      12th pillar: Innovation                   GCI.C.12  3.56  2008\n",
       "117 Global Competitiveness Index                   GCI       4.24  2008\n",
       "118      1st pillar: Institutions                  GCI.A.01  3.75  2007\n",
       "119      2nd pillar: Infrastructure                GCI.A.02  2.81  2007\n",
       "120      3rd pillar: Macroeconomic environment     GCI.A.03  4.80  2007\n",
       "121      4th pillar: Health and primary education  GCI.A.04  5.41  2007\n",
       "122      5th pillar: Higher education and training GCI.B.05  3.77  2007\n",
       "123      6th pillar: Goods market efficiency       GCI.B.06  4.69  2007\n",
       "124      7th pillar: Labor market efficiency       GCI.B.07  4.34  2007\n",
       "125      8th pillar: Financial market development  GCI.B.08  4.25  2007\n",
       "126      9th pillar: Technological readiness       GCI.B.09  2.79  2007\n",
       "127      10th pillar: Market size                  GCI.B.10  5.41  2007\n",
       "128      11th pillar: Business sophistication      GCI.C.11  4.33  2007\n",
       "129      12th pillar: Innovation                   GCI.C.12  3.49  2007\n",
       "130 Global Competitiveness Index                   GCI       4.18  2007"
      ]
     },
     "metadata": {},
     "output_type": "display_data"
    },
    {
     "data": {},
     "metadata": {},
     "output_type": "display_data"
    }
   ],
   "source": [
    "library(googleVis)\n",
    "\n",
    "gci_id_all <- c(\"GCI\", \"GCI.A.01\", \"GCI.A.02\", \"GCI.A.03\", \"GCI.A.04\", \"GCI.B.05\", \"GCI.B.06\", \"GCI.B.07\", \"GCI.B.08\", \"GCI.B.09\", \"GCI.B.10\", \"GCI.C.11\", \"GCI.C.12\")\n",
    "wci_data_idn_time <- wci_data_raw[wci_data_raw$\"GLOBAL ID\" %in% gci_id_all, ] %>%\n",
    "  filter(Attribute == \"Value\") %>%\n",
    "  gather(X0, GCI, -c(1:8)) %>%\n",
    "  mutate(GCI_s = as.numeric(round(as.numeric(GCI), 2)), year = as.numeric(substr(Edition, start=6, stop=9))) %>%\n",
    "  filter(X0 == \"IDN\") %>%\n",
    "  select(Series, `GLOBAL ID`, GCI_s, year)\n",
    "wci_data_idn_time\n",
    "wci_data_idn_time %>%\n",
    "    ggvis(x = ~year, y = ~GCI_s, stroke = ~Series) %>%\n",
    "    layer_lines() %>%\n",
    "    layer_points(shape = ~Series, fill = ~Series)\n",
    "    \n",
    "\n",
    "#Motion=gvisMotionChart(wci_data_idn_time, \n",
    "#                       idvar=\"GCI_s\", \n",
    "#                       timevar=\"year\")\n",
    "#plot(Motion)"
   ]
  },
  {
   "cell_type": "code",
   "execution_count": 7,
   "metadata": {
    "collapsed": false,
    "scrolled": true
   },
   "outputs": [
    {
     "name": "stderr",
     "output_type": "stream",
     "text": [
      "Warning message:\n",
      "\"package 'WDI' was built under R version 3.3.2\"Loading required package: RJSONIO\n",
      "Warning message:\n",
      "\"package 'RJSONIO' was built under R version 3.3.2\"Warning message:\n",
      "\"package 'countrycode' was built under R version 3.3.2\""
     ]
    },
    {
     "data": {
      "text/html": [
       "<table>\n",
       "<thead><tr><th scope=col>iso2c</th><th scope=col>country</th><th scope=col>year</th><th scope=col>NY.GDP.MKTP.CD</th><th scope=col>SE.XPD.TOTL.GD.ZS</th><th scope=col>X0</th><th scope=col>edu_value</th></tr></thead>\n",
       "<tbody>\n",
       "\t<tr><td>ID          </td><td>Indonesia   </td><td>1972        </td><td> 10997590361</td><td>2.64225     </td><td>IDN         </td><td>  290583838 </td></tr>\n",
       "\t<tr><td>ID          </td><td>Indonesia   </td><td>1989        </td><td> 94451425689</td><td>0.82737     </td><td>IDN         </td><td>  781462749 </td></tr>\n",
       "\t<tr><td>ID          </td><td>Indonesia   </td><td>1994        </td><td>176892148243</td><td>0.99855     </td><td>IDN         </td><td> 1766356542 </td></tr>\n",
       "\t<tr><td>ID          </td><td>Indonesia   </td><td>1995        </td><td>202132032633</td><td>1.00435     </td><td>IDN         </td><td> 2030112963 </td></tr>\n",
       "\t<tr><td>ID          </td><td>Indonesia   </td><td>1996        </td><td>227369676089</td><td>1.07855     </td><td>IDN         </td><td> 2452295599 </td></tr>\n",
       "\t<tr><td>ID          </td><td>Indonesia   </td><td>1997        </td><td>215748853372</td><td>1.07208     </td><td>IDN         </td><td> 2313000342 </td></tr>\n",
       "\t<tr><td>ID          </td><td>Indonesia   </td><td>2001        </td><td>160446947785</td><td>2.46003     </td><td>IDN         </td><td> 3947043176 </td></tr>\n",
       "\t<tr><td>ID          </td><td>Indonesia   </td><td>2002        </td><td>195660611165</td><td>2.64569     </td><td>IDN         </td><td> 5176573154 </td></tr>\n",
       "\t<tr><td>ID          </td><td>Indonesia   </td><td>2003        </td><td>234772459160</td><td>3.21800     </td><td>IDN         </td><td> 7554977584 </td></tr>\n",
       "\t<tr><td>ID          </td><td>Indonesia   </td><td>2004        </td><td>256836883574</td><td>2.74846     </td><td>IDN         </td><td> 7059059150 </td></tr>\n",
       "\t<tr><td>ID          </td><td>Indonesia   </td><td>2005        </td><td>285868618224</td><td>2.87282     </td><td>IDN         </td><td> 8212490554 </td></tr>\n",
       "\t<tr><td>ID          </td><td>Indonesia   </td><td>2007        </td><td>432216737775</td><td>3.04426     </td><td>IDN         </td><td>13157801370 </td></tr>\n",
       "\t<tr><td>ID          </td><td>Indonesia   </td><td>2008        </td><td>510228634992</td><td>2.90190     </td><td>IDN         </td><td>14806325029 </td></tr>\n",
       "\t<tr><td>ID          </td><td>Indonesia   </td><td>2009        </td><td>539580085612</td><td>3.52513     </td><td>IDN         </td><td>19020899653 </td></tr>\n",
       "\t<tr><td>ID          </td><td>Indonesia   </td><td>2010        </td><td>755094160363</td><td>2.81228     </td><td>IDN         </td><td>21235361597 </td></tr>\n",
       "\t<tr><td>ID          </td><td>Indonesia   </td><td>2011        </td><td>892969107923</td><td>3.18944     </td><td>IDN         </td><td>28480714023 </td></tr>\n",
       "\t<tr><td>ID          </td><td>Indonesia   </td><td>2012        </td><td>917869910106</td><td>3.40748     </td><td>IDN         </td><td>31276233626 </td></tr>\n",
       "\t<tr><td>ID          </td><td>Indonesia   </td><td>2013        </td><td>912524136718</td><td>3.36658     </td><td>IDN         </td><td>30720855168 </td></tr>\n",
       "\t<tr><td>ID          </td><td>Indonesia   </td><td>2014        </td><td>890487074596</td><td>3.29643     </td><td>IDN         </td><td>29354284061 </td></tr>\n",
       "</tbody>\n",
       "</table>\n"
      ],
      "text/latex": [
       "\\begin{tabular}{r|lllllll}\n",
       " iso2c & country & year & NY.GDP.MKTP.CD & SE.XPD.TOTL.GD.ZS & X0 & edu\\_value\\\\\n",
       "\\hline\n",
       "\t ID           & Indonesia    & 1972         &  10997590361 & 2.64225      & IDN          &   290583838 \\\\\n",
       "\t ID           & Indonesia    & 1989         &  94451425689 & 0.82737      & IDN          &   781462749 \\\\\n",
       "\t ID           & Indonesia    & 1994         & 176892148243 & 0.99855      & IDN          &  1766356542 \\\\\n",
       "\t ID           & Indonesia    & 1995         & 202132032633 & 1.00435      & IDN          &  2030112963 \\\\\n",
       "\t ID           & Indonesia    & 1996         & 227369676089 & 1.07855      & IDN          &  2452295599 \\\\\n",
       "\t ID           & Indonesia    & 1997         & 215748853372 & 1.07208      & IDN          &  2313000342 \\\\\n",
       "\t ID           & Indonesia    & 2001         & 160446947785 & 2.46003      & IDN          &  3947043176 \\\\\n",
       "\t ID           & Indonesia    & 2002         & 195660611165 & 2.64569      & IDN          &  5176573154 \\\\\n",
       "\t ID           & Indonesia    & 2003         & 234772459160 & 3.21800      & IDN          &  7554977584 \\\\\n",
       "\t ID           & Indonesia    & 2004         & 256836883574 & 2.74846      & IDN          &  7059059150 \\\\\n",
       "\t ID           & Indonesia    & 2005         & 285868618224 & 2.87282      & IDN          &  8212490554 \\\\\n",
       "\t ID           & Indonesia    & 2007         & 432216737775 & 3.04426      & IDN          & 13157801370 \\\\\n",
       "\t ID           & Indonesia    & 2008         & 510228634992 & 2.90190      & IDN          & 14806325029 \\\\\n",
       "\t ID           & Indonesia    & 2009         & 539580085612 & 3.52513      & IDN          & 19020899653 \\\\\n",
       "\t ID           & Indonesia    & 2010         & 755094160363 & 2.81228      & IDN          & 21235361597 \\\\\n",
       "\t ID           & Indonesia    & 2011         & 892969107923 & 3.18944      & IDN          & 28480714023 \\\\\n",
       "\t ID           & Indonesia    & 2012         & 917869910106 & 3.40748      & IDN          & 31276233626 \\\\\n",
       "\t ID           & Indonesia    & 2013         & 912524136718 & 3.36658      & IDN          & 30720855168 \\\\\n",
       "\t ID           & Indonesia    & 2014         & 890487074596 & 3.29643      & IDN          & 29354284061 \\\\\n",
       "\\end{tabular}\n"
      ],
      "text/plain": [
       "   iso2c country   year NY.GDP.MKTP.CD SE.XPD.TOTL.GD.ZS X0  edu_value  \n",
       "1  ID    Indonesia 1972  10997590361   2.64225           IDN   290583838\n",
       "2  ID    Indonesia 1989  94451425689   0.82737           IDN   781462749\n",
       "3  ID    Indonesia 1994 176892148243   0.99855           IDN  1766356542\n",
       "4  ID    Indonesia 1995 202132032633   1.00435           IDN  2030112963\n",
       "5  ID    Indonesia 1996 227369676089   1.07855           IDN  2452295599\n",
       "6  ID    Indonesia 1997 215748853372   1.07208           IDN  2313000342\n",
       "7  ID    Indonesia 2001 160446947785   2.46003           IDN  3947043176\n",
       "8  ID    Indonesia 2002 195660611165   2.64569           IDN  5176573154\n",
       "9  ID    Indonesia 2003 234772459160   3.21800           IDN  7554977584\n",
       "10 ID    Indonesia 2004 256836883574   2.74846           IDN  7059059150\n",
       "11 ID    Indonesia 2005 285868618224   2.87282           IDN  8212490554\n",
       "12 ID    Indonesia 2007 432216737775   3.04426           IDN 13157801370\n",
       "13 ID    Indonesia 2008 510228634992   2.90190           IDN 14806325029\n",
       "14 ID    Indonesia 2009 539580085612   3.52513           IDN 19020899653\n",
       "15 ID    Indonesia 2010 755094160363   2.81228           IDN 21235361597\n",
       "16 ID    Indonesia 2011 892969107923   3.18944           IDN 28480714023\n",
       "17 ID    Indonesia 2012 917869910106   3.40748           IDN 31276233626\n",
       "18 ID    Indonesia 2013 912524136718   3.36658           IDN 30720855168\n",
       "19 ID    Indonesia 2014 890487074596   3.29643           IDN 29354284061"
      ]
     },
     "metadata": {},
     "output_type": "display_data"
    }
   ],
   "source": [
    "library(WDI)\n",
    "library(countrycode)\n",
    "library(dplyr)\n",
    "library(tidyr)\n",
    "\n",
    "wb_data = WDI(indicator=c('NY.GDP.MKTP.CD', 'SE.XPD.TOTL.GD.ZS'), start=1960, end=2016)\n",
    "wb_data <- wb_data %>%\n",
    "    mutate(X0 = countrycode(iso2c, \"iso2c\", \"iso3c\", warn = FALSE), edu_value = as.numeric(NY.GDP.MKTP.CD)*as.numeric(SE.XPD.TOTL.GD.ZS)/100) %>%\n",
    "    filter(X0 == \"IDN\", !is.na(edu_value))\n",
    "wb_data\n",
    "\n",
    "#edu_data = WDI(indicator='SE.XPD.TOTL.GD.ZS', start=1960, end=2016)\n",
    "#edu_data <- edu_data %>%\n",
    "#    mutate(X0 = countrycode(iso2c, \"iso2c\", \"iso3c\", warn = FALSE))\n",
    "\n",
    "#edu_value <- left_join(gdp_data, edu_data)\n",
    "    \n"
   ]
  },
  {
   "cell_type": "code",
   "execution_count": 73,
   "metadata": {
    "collapsed": false
   },
   "outputs": [
    {
     "data": {},
     "metadata": {},
     "output_type": "display_data"
    }
   ],
   "source": [
    "library(gridExtra)\n",
    "library(ggplot2)\n",
    "library(grid)\n",
    "\n",
    "index <- c(\"GCI.A.04\", \"GCI.B.05\")\n",
    "wb_data_2 <- left_join(wb_data, wci_data_idn_time, by = 'year') %>%\n",
    "    filter(`GLOBAL ID` %in% index)\n",
    "#head(wci_data_idn_time)\n",
    "#wb_data_2\n",
    "\n",
    "wb_data_2 %>%\n",
    "    ggvis(x = ~year) %>%\n",
    "    layer_lines(y = ~edu_value, stroke := \"red\") %>%\n",
    "    add_axis(\"y\", orient = \"left\", title = \"Education Spending (USD)\") %>%\n",
    "    add_axis(\"y\", 'ypmg', orient = \"right\", title= \"GCI\") %>%\n",
    "    layer_points(prop('y', ~GCI_s, scale=\"ypmg\"), fill = ~Series) %>%\n",
    "    add_axis(\"x\", title = \"Year\")\n",
    "\n",
    "\n"
   ]
  },
  {
   "cell_type": "code",
   "execution_count": 1,
   "metadata": {
    "collapsed": true
   },
   "outputs": [
    {
     "name": "stderr",
     "output_type": "stream",
     "text": [
      "Warning message:\n",
      "\"package 'intsvy' was built under R version 3.3.2\"Warning message:\n",
      "\"package 'dplyr' was built under R version 3.3.2\"\n",
      "Attaching package: 'dplyr'\n",
      "\n",
      "The following objects are masked from 'package:stats':\n",
      "\n",
      "    filter, lag\n",
      "\n",
      "The following objects are masked from 'package:base':\n",
      "\n",
      "    intersect, setdiff, setequal, union\n",
      "\n",
      "Warning message:\n",
      "\"package 'ggplot2' was built under R version 3.3.2\"Warning message:\n",
      "\"package 'tidyr' was built under R version 3.3.2\"Warning message in read.spss(\"D:/Downloads/CY6_MS_CMB_STU_QQQ.sav\", use.value.labels = TRUE, :\n",
      "\"D:/Downloads/CY6_MS_CMB_STU_QQQ.sav: Unrecognized record type 7, subtype 18 encountered in system file\"Warning message in read.spss(\"D:/Downloads/CY6_MS_CMB_STU_QQQ.sav\", use.value.labels = TRUE, :\n",
      "\"D:/Downloads/CY6_MS_CMB_STU_QQQ.sav: Unrecognized record type 7, subtype 21 encountered in system file\"Warning message in `levels<-`(`*tmp*`, value = if (nl == nL) as.character(labels) else paste0(labels, :\n",
      "\"duplicated levels in factors are deprecated\""
     ]
    },
    {
     "ename": "ERROR",
     "evalue": "Error in eval(expr, envir, enclos): could not find function \"pisa2015.mean.pv\"\n",
     "output_type": "error",
     "traceback": [
      "Error in eval(expr, envir, enclos): could not find function \"pisa2015.mean.pv\"\nTraceback:\n"
     ]
    }
   ],
   "source": [
    "library(\"foreign\")\n",
    "library(\"intsvy\")\n",
    "library(\"dplyr\")\n",
    "library(\"ggplot2\")\n",
    "library(\"tidyr\")\n",
    "\n",
    "stud2015 <- read.spss(\"D:/Downloads/CY6_MS_CMB_STU_QQQ.sav\", use.value.labels = TRUE, to.data.frame = TRUE)\n",
    "genderMath <- pisa2015.mean.pv(pvlabel = \"MATH\", by = c(\"CNT\", \"ST004D01T\"), data = stud2015)\n",
    "\n",
    "genderMath <- genderMath[,c(1,2,4,5)]\n",
    "genderMath %>%\n",
    "  select(CNT, ST004D01T, Mean) %>%\n",
    "  spread(ST004D01T, Mean) -> genderMathWide\n",
    "\n",
    "genderMathSelected <-\n",
    "  genderMathWide %>%\n",
    "  filter(CNT %in% c(\"Austria\", \"Japan\", \"Switzerland\",  \"Poland\", \"Singapore\", \"Finland\", \"Singapore\", \"Korea\", \"United States\"))\n",
    "\n",
    "pl <- ggplot(genderMathWide, aes(Female, Male)) +\n",
    "  geom_point() +\n",
    "  geom_point(data=genderMathSelected, color=\"red\") +\n",
    "  geom_text(data=genderMathSelected, aes(label=CNT), color=\"grey20\") +\n",
    "  geom_abline(slope=1, intercept = 0) + \n",
    "  geom_abline(slope=1, intercept = 20, linetype = 2, color=\"grey\") + \n",
    "  geom_abline(slope=1, intercept = -20, linetype = 2, color=\"grey\") +\n",
    "  geom_text(x=425, y=460, label=\"Boys +20 points\", angle=45, color=\"grey\", size=8) + \n",
    "  geom_text(x=460, y=425, label=\"Girls +20 points\", angle=45, color=\"grey\", size=8) + \n",
    "  coord_fixed(xlim = c(400,565), ylim = c(400,565)) +\n",
    "  theme_bw() + ggtitle(\"PISA 2015 in Math - Gender Gap\") +\n",
    "  xlab(\"PISA 2015 Math score for girls\") +\n",
    "  ylab(\"PISA 2015 Math score for boys\")"
   ]
  },
  {
   "cell_type": "code",
   "execution_count": 78,
   "metadata": {
    "collapsed": false
   },
   "outputs": [
    {
     "ename": "ERROR",
     "evalue": "Error in eval(expr, envir, enclos): could not find function \"pisa2015.mean.pv\"\n",
     "output_type": "error",
     "traceback": [
      "Error in eval(expr, envir, enclos): could not find function \"pisa2015.mean.pv\"\nTraceback:\n"
     ]
    }
   ],
   "source": [
    "pisa2015.mean.pv(pvlabel = \"SCIE\", by = \"CNT\", data = pisa15)"
   ]
  },
  {
   "cell_type": "code",
   "execution_count": 63,
   "metadata": {
    "collapsed": false
   },
   "outputs": [
    {
     "data": {
      "text/html": [
       "<table>\n",
       "<thead><tr><th scope=col>PISA</th><th scope=col>X0</th><th scope=col>2015</th><th scope=col>2012</th><th scope=col>2009</th><th scope=col>2006</th><th scope=col>2003</th><th scope=col>2000</th></tr></thead>\n",
       "<tbody>\n",
       "\t<tr><td>Science    </td><td>IDN        </td><td>403        </td><td>382        </td><td>383        </td><td>393        </td><td>395        </td><td>393        </td></tr>\n",
       "\t<tr><td>Reading    </td><td>IDN        </td><td>397        </td><td>396        </td><td>402        </td><td>393        </td><td>382        </td><td>378        </td></tr>\n",
       "\t<tr><td>Mathematics</td><td>IDN        </td><td>386        </td><td>375        </td><td>371        </td><td>391        </td><td>360        </td><td>367        </td></tr>\n",
       "\t<tr><td>Science    </td><td>SGP        </td><td>551        </td><td> NA        </td><td> NA        </td><td> NA        </td><td> NA        </td><td> NA        </td></tr>\n",
       "\t<tr><td>Reading    </td><td>SGP        </td><td>542        </td><td> NA        </td><td> NA        </td><td> NA        </td><td> NA        </td><td> NA        </td></tr>\n",
       "\t<tr><td>Mathematics</td><td>SGP        </td><td>573        </td><td> NA        </td><td> NA        </td><td> NA        </td><td> NA        </td><td> NA        </td></tr>\n",
       "\t<tr><td>Science    </td><td>OECD       </td><td>501        </td><td> NA        </td><td> NA        </td><td> NA        </td><td> NA        </td><td> NA        </td></tr>\n",
       "\t<tr><td>Reading    </td><td>OECD       </td><td>496        </td><td> NA        </td><td> NA        </td><td> NA        </td><td> NA        </td><td> NA        </td></tr>\n",
       "\t<tr><td>Mathematics</td><td>OECD       </td><td>494        </td><td> NA        </td><td> NA        </td><td> NA        </td><td> NA        </td><td> NA        </td></tr>\n",
       "\t<tr><td>Science    </td><td>VNM        </td><td>528        </td><td> NA        </td><td> NA        </td><td> NA        </td><td> NA        </td><td> NA        </td></tr>\n",
       "\t<tr><td>Reading    </td><td>VNM        </td><td>508        </td><td> NA        </td><td> NA        </td><td> NA        </td><td> NA        </td><td> NA        </td></tr>\n",
       "\t<tr><td>Mathematics</td><td>VNM        </td><td>511        </td><td> NA        </td><td> NA        </td><td> NA        </td><td> NA        </td><td> NA        </td></tr>\n",
       "\t<tr><td>Science    </td><td>THA        </td><td>444        </td><td> NA        </td><td> NA        </td><td> NA        </td><td> NA        </td><td> NA        </td></tr>\n",
       "\t<tr><td>Reading    </td><td>THA        </td><td>441        </td><td> NA        </td><td> NA        </td><td> NA        </td><td> NA        </td><td> NA        </td></tr>\n",
       "\t<tr><td>Mathematics</td><td>THA        </td><td>427        </td><td> NA        </td><td> NA        </td><td> NA        </td><td> NA        </td><td> NA        </td></tr>\n",
       "</tbody>\n",
       "</table>\n"
      ],
      "text/latex": [
       "\\begin{tabular}{r|llllllll}\n",
       " PISA & X0 & 2015 & 2012 & 2009 & 2006 & 2003 & 2000\\\\\n",
       "\\hline\n",
       "\t Science     & IDN         & 403         & 382         & 383         & 393         & 395         & 393        \\\\\n",
       "\t Reading     & IDN         & 397         & 396         & 402         & 393         & 382         & 378        \\\\\n",
       "\t Mathematics & IDN         & 386         & 375         & 371         & 391         & 360         & 367        \\\\\n",
       "\t Science     & SGP         & 551         &  NA         &  NA         &  NA         &  NA         &  NA        \\\\\n",
       "\t Reading     & SGP         & 542         &  NA         &  NA         &  NA         &  NA         &  NA        \\\\\n",
       "\t Mathematics & SGP         & 573         &  NA         &  NA         &  NA         &  NA         &  NA        \\\\\n",
       "\t Science     & OECD        & 501         &  NA         &  NA         &  NA         &  NA         &  NA        \\\\\n",
       "\t Reading     & OECD        & 496         &  NA         &  NA         &  NA         &  NA         &  NA        \\\\\n",
       "\t Mathematics & OECD        & 494         &  NA         &  NA         &  NA         &  NA         &  NA        \\\\\n",
       "\t Science     & VNM         & 528         &  NA         &  NA         &  NA         &  NA         &  NA        \\\\\n",
       "\t Reading     & VNM         & 508         &  NA         &  NA         &  NA         &  NA         &  NA        \\\\\n",
       "\t Mathematics & VNM         & 511         &  NA         &  NA         &  NA         &  NA         &  NA        \\\\\n",
       "\t Science     & THA         & 444         &  NA         &  NA         &  NA         &  NA         &  NA        \\\\\n",
       "\t Reading     & THA         & 441         &  NA         &  NA         &  NA         &  NA         &  NA        \\\\\n",
       "\t Mathematics & THA         & 427         &  NA         &  NA         &  NA         &  NA         &  NA        \\\\\n",
       "\\end{tabular}\n"
      ],
      "text/plain": [
       "   PISA        X0   2015 2012 2009 2006 2003 2000\n",
       "1  Science     IDN  403  382  383  393  395  393 \n",
       "2  Reading     IDN  397  396  402  393  382  378 \n",
       "3  Mathematics IDN  386  375  371  391  360  367 \n",
       "4  Science     SGP  551   NA   NA   NA   NA   NA \n",
       "5  Reading     SGP  542   NA   NA   NA   NA   NA \n",
       "6  Mathematics SGP  573   NA   NA   NA   NA   NA \n",
       "7  Science     OECD 501   NA   NA   NA   NA   NA \n",
       "8  Reading     OECD 496   NA   NA   NA   NA   NA \n",
       "9  Mathematics OECD 494   NA   NA   NA   NA   NA \n",
       "10 Science     VNM  528   NA   NA   NA   NA   NA \n",
       "11 Reading     VNM  508   NA   NA   NA   NA   NA \n",
       "12 Mathematics VNM  511   NA   NA   NA   NA   NA \n",
       "13 Science     THA  444   NA   NA   NA   NA   NA \n",
       "14 Reading     THA  441   NA   NA   NA   NA   NA \n",
       "15 Mathematics THA  427   NA   NA   NA   NA   NA "
      ]
     },
     "metadata": {},
     "output_type": "display_data"
    },
    {
     "data": {
      "text/html": [
       "<table>\n",
       "<thead><tr><th scope=col>PISA</th><th scope=col>X0</th><th scope=col>year</th><th scope=col>value</th></tr></thead>\n",
       "<tbody>\n",
       "</tbody>\n",
       "</table>\n"
      ],
      "text/latex": [
       "\\begin{tabular}{r|llll}\n",
       " PISA & X0 & year & value\\\\\n",
       "\\hline\n",
       "\\end{tabular}\n"
      ],
      "text/plain": [
       "     PISA X0 year value"
      ]
     },
     "metadata": {},
     "output_type": "display_data"
    }
   ],
   "source": [
    "library(readxl)\n",
    "library(dplyr)\n",
    "library(tidyr)\n",
    "\n",
    "pisa_all <- read_excel(\"PISA.xlsx\", sheet = 1, col_names = TRUE)\n",
    "\n",
    "pisa_ind <- filter(pisa_all, X0 == \"IND\")\n",
    "pisa_ind <- gather(pisa_ind, year, value, -c(1:2))\n",
    "pisa_ind <- mutate(pisa_ind, year = as.numeric(year), value = as.numeric(value))\n",
    "\n",
    "pisa_all\n",
    "pisa_ind"
   ]
  },
  {
   "cell_type": "code",
   "execution_count": 62,
   "metadata": {
    "collapsed": false
   },
   "outputs": [
    {
     "data": {},
     "metadata": {},
     "output_type": "display_data"
    }
   ],
   "source": [
    "#head(wb_data)\n",
    "#head(pisa_ind) \n",
    "library(ggvis)\n",
    "\n",
    "pisa_ind %>% \n",
    "    full_join(wb_data, by = c(\"X0\", \"year\")) %>%\n",
    "    ggvis(x = ~year) %>%\n",
    "    layer_points(y = ~edu_value, fill := \"red\") %>%\n",
    "    add_axis(\"y\", orient = \"left\", title = \"Education Spending (USD)\") %>%\n",
    "    add_axis(\"y\", 'ypmg', orient = \"right\", title= \"PISA Mean Score\") %>%\n",
    "    layer_points(prop('y', ~value, scale=\"ypmg\"), fill = ~PISA, shape = ~PISA) %>%\n",
    "    add_axis(\"x\", title = \"Year\")"
   ]
  },
  {
   "cell_type": "code",
   "execution_count": 86,
   "metadata": {
    "collapsed": true
   },
   "outputs": [
    {
     "data": {
      "text/html": [
       "<table>\n",
       "<thead><tr><th scope=col>X0</th><th scope=col>Mathematics</th><th scope=col>Reading</th><th scope=col>Science</th></tr></thead>\n",
       "<tbody>\n",
       "\t<tr><td>IDN </td><td>386 </td><td>397 </td><td>403 </td></tr>\n",
       "\t<tr><td>OECD</td><td>494 </td><td>496 </td><td>501 </td></tr>\n",
       "</tbody>\n",
       "</table>\n"
      ],
      "text/latex": [
       "\\begin{tabular}{r|llll}\n",
       " X0 & Mathematics & Reading & Science\\\\\n",
       "\\hline\n",
       "\t IDN  & 386  & 397  & 403 \\\\\n",
       "\t OECD & 494  & 496  & 501 \\\\\n",
       "\\end{tabular}\n"
      ],
      "text/plain": [
       "  X0   Mathematics Reading Science\n",
       "1 IDN  386         397     403    \n",
       "2 OECD 494         496     501    "
      ]
     },
     "metadata": {},
     "output_type": "display_data"
    },
    {
     "data": {
      "image/png": "[encoded data removed]",
      "text/plain": [
       "Plot with title \"\""
      ]
     },
     "metadata": {},
     "output_type": "display_data"
    }
   ],
   "source": [
    "# Library\n",
    "library(fmsb)\n",
    "\n",
    "pisa_ind_vs_sgp <- filter(pisa_all, X0 %in% c(\"IDN\", \"OECD\")) \n",
    "pisa_ind_vs_sgp <- mutate(pisa_ind_vs_sgp, `2015` = as.numeric(`2015`))\n",
    "pisa_ind_vs_sgp <- select(pisa_ind_vs_sgp, `PISA`, `X0`,`2015`) \n",
    "pisa_ind_vs_sgp <- spread(pisa_ind_vs_sgp, PISA, `2015`)\n",
    "pisa_ind_vs_sgp\n",
    "\n",
    "data=as.data.frame(pisa_ind_vs_sgp[2:4])\n",
    "#colnames(data)=c(\"Institutions\" , \"Infrastructure\" , \"Macroeconomic Environment\" , \"Health and Primary Education\" , \n",
    "#                 \"Higher Education & Training\", \"Goods Market Efficiency\", \"Labour Market Efficiency\", \"Financial Market Development\",\n",
    "#                 \"Technological Readiness\", \"Market Size\", \"Business Sophistication\", \"Innovation\")\n",
    "rownames(data)=c(\"IDN\", \"OECD\")\n",
    "data=rbind(rep(600,3) , rep(0,3) , data)\n",
    "#data\n",
    "\n",
    "colors_border=c( rgb(0.2,0.5,0.5,0.9), rgb(0.8,0.2,0.5,0.9)  , rgb(0.7,0.5,0.1,0.9) )\n",
    "colors_in=c( rgb(0.2,0.5,0.5,0.4), rgb(0.8,0.2,0.5,0.4)  , rgb(0.7,0.5,0.1,0.4) )\n",
    "radarchart( data  , axistype=1 , \n",
    "    #custom polygon\n",
    "    pcol=colors_border , pfcol=colors_in , plwd=4 , plty=1,\n",
    "    #custom the grid\n",
    "    cglcol=\"grey\", cglty=1, axislabcol=\"grey\", caxislabels=seq(0,600,150), cglwd=0.8,\n",
    "    #custom labels\n",
    "    vlcex=0.8 \n",
    "    )\n",
    "legend(x=0.7, y=1, legend = rownames(data[-c(1,2),]), bty = \"n\", pch=20 , col=colors_in , text.col = \"grey\", cex=1.2, pt.cex=3)"
   ]
  },
  {
   "cell_type": "code",
   "execution_count": 108,
   "metadata": {
    "collapsed": false
   },
   "outputs": [
    {
     "data": {},
     "metadata": {},
     "output_type": "display_data"
    }
   ],
   "source": [
    "library(hdr)\n",
    "\n",
    "hdi <- get_data(indicator = 137506, country = \"IDN\")\n",
    "hdi <- mutate(hdi, X0 = as.character(iso3c))\n",
    "hdi %>%\n",
    "    full_join(wb_data, by = c(\"X0\", \"year\")) %>%\n",
    "    ggvis(x = ~year) %>%\n",
    "    layer_points(y = ~edu_value, fill := \"red\") %>%\n",
    "    add_axis(\"y\", orient = \"left\", title = \"Education Spending (USD)\") %>%\n",
    "    add_axis(\"y\", 'ypmg', orient = \"right\", title= \"HDI\") %>%\n",
    "    layer_points(prop('y', ~value, scale=\"ypmg\")) %>%\n",
    "    add_axis(\"x\", title = \"Year\")"
   ]
  },
  {
   "cell_type": "code",
   "execution_count": null,
   "metadata": {
    "collapsed": true
   },
   "outputs": [],
   "source": [
    "library(ggvis)\n",
    "\n",
    "ggvis(wci_data_asean, ~GCI_s, ~PPP) %>%\n",
    "    layer_points(fill = ~X3) %>%\n",
    "    layer_smooths(span = 1, stroke := \"red\") %>%\n",
    "    layer_text(text := ~X0, fontSize := 10, fill = ~X3)"
   ]
  },
  {
   "cell_type": "code",
   "execution_count": 129,
   "metadata": {
    "collapsed": false
   },
   "outputs": [
    {
     "data": {
      "text/html": [
       "<table>\n",
       "<thead><tr><th scope=col>X0</th><th scope=col>X1</th><th scope=col>X2</th><th scope=col>X3</th><th scope=col>X4</th></tr></thead>\n",
       "<tbody>\n",
       "\t<tr><td>ALB                                    </td><td>Albania                                </td><td>Economy                                </td><td>Upper-middle income                    </td><td>Emerging and Developing Europe         </td></tr>\n",
       "\t<tr><td>DZA                                    </td><td>Algeria                                </td><td>Economy                                </td><td>Upper-middle income                    </td><td>Middle East, North Africa, and Pakistan</td></tr>\n",
       "\t<tr><td>AGO                                    </td><td>Angola                                 </td><td>Economy                                </td><td>Upper-middle income                    </td><td>Sub-Saharan Africa                     </td></tr>\n",
       "\t<tr><td>ARG                                    </td><td>Argentina                              </td><td>Economy                                </td><td>High income                            </td><td>Latin America and the Caribbean        </td></tr>\n",
       "\t<tr><td>ARM                                    </td><td>Armenia                                </td><td>Economy                                </td><td>Lower-middle income                    </td><td>Commonwealth of Independent States     </td></tr>\n",
       "\t<tr><td>AUS                                    </td><td>Australia                              </td><td>Economy                                </td><td>High income                            </td><td>Advanced economies                     </td></tr>\n",
       "</tbody>\n",
       "</table>\n"
      ],
      "text/latex": [
       "\\begin{tabular}{r|lllll}\n",
       " X0 & X1 & X2 & X3 & X4\\\\\n",
       "\\hline\n",
       "\t ALB                                     & Albania                                 & Economy                                 & Upper-middle income                     & Emerging and Developing Europe         \\\\\n",
       "\t DZA                                     & Algeria                                 & Economy                                 & Upper-middle income                     & Middle East, North Africa, and Pakistan\\\\\n",
       "\t AGO                                     & Angola                                  & Economy                                 & Upper-middle income                     & Sub-Saharan Africa                     \\\\\n",
       "\t ARG                                     & Argentina                               & Economy                                 & High income                             & Latin America and the Caribbean        \\\\\n",
       "\t ARM                                     & Armenia                                 & Economy                                 & Lower-middle income                     & Commonwealth of Independent States     \\\\\n",
       "\t AUS                                     & Australia                               & Economy                                 & High income                             & Advanced economies                     \\\\\n",
       "\\end{tabular}\n"
      ],
      "text/plain": [
       "  X0  X1        X2      X3                 \n",
       "1 ALB Albania   Economy Upper-middle income\n",
       "2 DZA Algeria   Economy Upper-middle income\n",
       "3 AGO Angola    Economy Upper-middle income\n",
       "4 ARG Argentina Economy High income        \n",
       "5 ARM Armenia   Economy Lower-middle income\n",
       "6 AUS Australia Economy High income        \n",
       "  X4                                     \n",
       "1 Emerging and Developing Europe         \n",
       "2 Middle East, North Africa, and Pakistan\n",
       "3 Sub-Saharan Africa                     \n",
       "4 Latin America and the Caribbean        \n",
       "5 Commonwealth of Independent States     \n",
       "6 Advanced economies                     "
      ]
     },
     "metadata": {},
     "output_type": "display_data"
    },
    {
     "data": {
      "text/html": [
       "<table>\n",
       "<thead><tr><th scope=col>id</th><th scope=col>indicator</th><th scope=col>iso3c</th><th scope=col>country.x</th><th scope=col>year.x</th><th scope=col>value</th><th scope=col>X0</th><th scope=col>X1</th><th scope=col>X2</th><th scope=col>X3</th><th scope=col>X4</th><th scope=col>iso2c</th><th scope=col>country.y</th><th scope=col>NY.GDP.PCAP.KD</th><th scope=col>year.y</th><th scope=col>PPP</th></tr></thead>\n",
       "<tbody>\n",
       "\t<tr><td>137506                                   </td><td>HDI: Human development index (HDIg) value</td><td>BRN                                      </td><td>Brunei Darussalam                        </td><td>2013                                     </td><td>0.852                                    </td><td>BRN                                      </td><td>Brunei Darussalam                        </td><td>Economy                                  </td><td>High income                              </td><td>Emerging and Developing Asia             </td><td>BN                                       </td><td>Brunei Darussalam                        </td><td>34132.4553                               </td><td>2013                                     </td><td>34132                                    </td></tr>\n",
       "\t<tr><td>137506                                   </td><td>HDI: Human development index (HDIg) value</td><td>IDN                                      </td><td>Indonesia                                </td><td>2013                                     </td><td>0.684                                    </td><td>IDN                                      </td><td>Indonesia                                </td><td>Economy                                  </td><td>Lower-middle income                      </td><td>Emerging and Developing Asia             </td><td>ID                                       </td><td>Indonesia                                </td><td> 3570.9312                               </td><td>2013                                     </td><td> 3571                                    </td></tr>\n",
       "\t<tr><td>137506                                   </td><td>HDI: Human development index (HDIg) value</td><td>KHM                                      </td><td>Cambodia                                 </td><td>2013                                     </td><td>0.584                                    </td><td>KHM                                      </td><td>Cambodia                                 </td><td>Economy                                  </td><td>Low income                               </td><td>Emerging and Developing Asia             </td><td>KH                                       </td><td>Cambodia                                 </td><td>  920.3036                               </td><td>2013                                     </td><td>  920                                    </td></tr>\n",
       "\t<tr><td>137506                                   </td><td>HDI: Human development index (HDIg) value</td><td>LAO                                      </td><td>Lao People's Democratic Republic         </td><td>2013                                     </td><td>0.569                                    </td><td>LAO                                      </td><td>Lao PDR                                  </td><td>Economy                                  </td><td>Lower-middle income                      </td><td>Emerging and Developing Asia             </td><td>LA                                       </td><td>Lao PDR                                  </td><td> 1371.4257                               </td><td>2013                                     </td><td> 1371                                    </td></tr>\n",
       "\t<tr><td>137506                                   </td><td>HDI: Human development index (HDIg) value</td><td>MMR                                      </td><td>Myanmar                                  </td><td>2013                                     </td><td>0.524                                    </td><td>MMR                                      </td><td>Myanmar                                  </td><td>Economy                                  </td><td>Lower-middle income                      </td><td>Emerging and Developing Asia             </td><td>MM                                       </td><td>Myanmar                                  </td><td> 1148.9842                               </td><td>2013                                     </td><td> 1149                                    </td></tr>\n",
       "\t<tr><td>137506                                   </td><td>HDI: Human development index (HDIg) value</td><td>MYS                                      </td><td>Malaysia                                 </td><td>2013                                     </td><td>0.773                                    </td><td>MYS                                      </td><td>Malaysia                                 </td><td>Economy                                  </td><td>Upper-middle income                      </td><td>Emerging and Developing Asia             </td><td>MY                                       </td><td>Malaysia                                 </td><td>10062.9106                               </td><td>2013                                     </td><td>10063                                    </td></tr>\n",
       "</tbody>\n",
       "</table>\n"
      ],
      "text/latex": [
       "\\begin{tabular}{r|llllllllllllllll}\n",
       " id & indicator & iso3c & country.x & year.x & value & X0 & X1 & X2 & X3 & X4 & iso2c & country.y & NY.GDP.PCAP.KD & year.y & PPP\\\\\n",
       "\\hline\n",
       "\t 137506                                    & HDI: Human development index (HDIg) value & BRN                                       & Brunei Darussalam                         & 2013                                      & 0.852                                     & BRN                                       & Brunei Darussalam                         & Economy                                   & High income                               & Emerging and Developing Asia              & BN                                        & Brunei Darussalam                         & 34132.4553                                & 2013                                      & 34132                                    \\\\\n",
       "\t 137506                                    & HDI: Human development index (HDIg) value & IDN                                       & Indonesia                                 & 2013                                      & 0.684                                     & IDN                                       & Indonesia                                 & Economy                                   & Lower-middle income                       & Emerging and Developing Asia              & ID                                        & Indonesia                                 &  3570.9312                                & 2013                                      &  3571                                    \\\\\n",
       "\t 137506                                    & HDI: Human development index (HDIg) value & KHM                                       & Cambodia                                  & 2013                                      & 0.584                                     & KHM                                       & Cambodia                                  & Economy                                   & Low income                                & Emerging and Developing Asia              & KH                                        & Cambodia                                  &   920.3036                                & 2013                                      &   920                                    \\\\\n",
       "\t 137506                                    & HDI: Human development index (HDIg) value & LAO                                       & Lao People's Democratic Republic          & 2013                                      & 0.569                                     & LAO                                       & Lao PDR                                   & Economy                                   & Lower-middle income                       & Emerging and Developing Asia              & LA                                        & Lao PDR                                   &  1371.4257                                & 2013                                      &  1371                                    \\\\\n",
       "\t 137506                                    & HDI: Human development index (HDIg) value & MMR                                       & Myanmar                                   & 2013                                      & 0.524                                     & MMR                                       & Myanmar                                   & Economy                                   & Lower-middle income                       & Emerging and Developing Asia              & MM                                        & Myanmar                                   &  1148.9842                                & 2013                                      &  1149                                    \\\\\n",
       "\t 137506                                    & HDI: Human development index (HDIg) value & MYS                                       & Malaysia                                  & 2013                                      & 0.773                                     & MYS                                       & Malaysia                                  & Economy                                   & Upper-middle income                       & Emerging and Developing Asia              & MY                                        & Malaysia                                  & 10062.9106                                & 2013                                      & 10063                                    \\\\\n",
       "\\end{tabular}\n"
      ],
      "text/plain": [
       "  id     indicator                                 iso3c\n",
       "1 137506 HDI: Human development index (HDIg) value BRN  \n",
       "2 137506 HDI: Human development index (HDIg) value IDN  \n",
       "3 137506 HDI: Human development index (HDIg) value KHM  \n",
       "4 137506 HDI: Human development index (HDIg) value LAO  \n",
       "5 137506 HDI: Human development index (HDIg) value MMR  \n",
       "6 137506 HDI: Human development index (HDIg) value MYS  \n",
       "  country.x                        year.x value X0  X1                X2     \n",
       "1 Brunei Darussalam                2013   0.852 BRN Brunei Darussalam Economy\n",
       "2 Indonesia                        2013   0.684 IDN Indonesia         Economy\n",
       "3 Cambodia                         2013   0.584 KHM Cambodia          Economy\n",
       "4 Lao People's Democratic Republic 2013   0.569 LAO Lao PDR           Economy\n",
       "5 Myanmar                          2013   0.524 MMR Myanmar           Economy\n",
       "6 Malaysia                         2013   0.773 MYS Malaysia          Economy\n",
       "  X3                  X4                           iso2c country.y        \n",
       "1 High income         Emerging and Developing Asia BN    Brunei Darussalam\n",
       "2 Lower-middle income Emerging and Developing Asia ID    Indonesia        \n",
       "3 Low income          Emerging and Developing Asia KH    Cambodia         \n",
       "4 Lower-middle income Emerging and Developing Asia LA    Lao PDR          \n",
       "5 Lower-middle income Emerging and Developing Asia MM    Myanmar          \n",
       "6 Upper-middle income Emerging and Developing Asia MY    Malaysia         \n",
       "  NY.GDP.PCAP.KD year.y PPP  \n",
       "1 34132.4553     2013   34132\n",
       "2  3570.9312     2013    3571\n",
       "3   920.3036     2013     920\n",
       "4  1371.4257     2013    1371\n",
       "5  1148.9842     2013    1149\n",
       "6 10062.9106     2013   10063"
      ]
     },
     "metadata": {},
     "output_type": "display_data"
    },
    {
     "data": {},
     "metadata": {},
     "output_type": "display_data"
    }
   ],
   "source": [
    "asean <- c(\"SGP\", \"IDN\", \"MYS\", \"THA\", \"VNM\", \"BRN\", \"KHM\", \"LAO\", \"MMR\", \"PHL\")\n",
    "hdi_all <- get_data(indicator = 137506, country=asean, year = 2013)\n",
    "hdi_all <- mutate(hdi_all, X0 = as.character(iso3c))\n",
    "gdp_data = WDI(indicator='NY.GDP.PCAP.KD', start=2013, end=2016)\n",
    "gdp_data <- gdp_data %>%\n",
    "    filter(year == \"2013\") %>%\n",
    "    mutate(X0 = countrycode(iso2c, \"iso2c\", \"iso3c\", warn = FALSE))\n",
    "hdi_combined <- left_join(hdi_all, country, by = \"X0\") %>%\n",
    "    left_join(gdp_data, by = \"X0\") %>%\n",
    "    mutate(PPP = round(as.numeric(NY.GDP.PCAP.KD, 2)))\n",
    "head(country)\n",
    "head(hdi_combined)\n",
    "\n",
    "library(ggvis)\n",
    "\n",
    "ggvis(hdi_combined, ~value, ~PPP) %>%\n",
    "    layer_points(fill = ~X3) %>%\n",
    "    layer_smooths(span = 1, stroke := \"red\") %>%\n",
    "    layer_text(text := ~X0, fontSize := 10, fill = ~X3)"
   ]
  },
  {
   "cell_type": "code",
   "execution_count": 138,
   "metadata": {
    "collapsed": false
   },
   "outputs": [
    {
     "data": {},
     "metadata": {},
     "output_type": "display_data"
    }
   ],
   "source": [
    "library(readxl)\n",
    "library(dplyr)\n",
    "library(tidyr)\n",
    "\n",
    "piacc_all <- read_excel(\"PIACC.xlsx\", sheet = 1, col_names = TRUE)\n",
    "\n",
    "ggvis(piacc_all, ~X0, ~Numeracy) %>%\n",
    "    layer_points(fill := \"red\") %>%\n",
    "    layer_text(text := ~X0, fontSize := 10)"
   ]
  },
  {
   "cell_type": "code",
   "execution_count": 50,
   "metadata": {
    "collapsed": false,
    "scrolled": false
   },
   "outputs": [
    {
     "name": "stderr",
     "output_type": "stream",
     "text": [
      "Warning message:\n",
      "\"attributes are not identical across measure variables; they will be dropped\""
     ]
    },
    {
     "data": {},
     "metadata": {},
     "output_type": "display_data"
    }
   ],
   "source": [
    "un <- read.delim(file=\"nilairatarataun.csv\", sep=\";\", header=TRUE)\n",
    "un <- gather(un, pelajaran, nilai, -c(1:2, 14:16))\n",
    "un <- mutate(un, nilai = as.numeric(gsub(\",\", \".\", nilai)))\n",
    "un <- filter(un, grepl(\"Nilai Rata-rata Sekolah UN SMP\", Keterangan), grepl(\"Kabupaten|Kota\", Wilayah), !is.na(nilai))\n",
    "#un\n",
    "#str(un)\n",
    "\n",
    "ggvis(un, ~Wilayah, ~nilai, fill = ~factor(pelajaran)) %>%\n",
    "    layer_points() \n",
    "#    layer_text(text := ~X0, fontSize := 10)"
   ]
  },
  {
   "cell_type": "code",
   "execution_count": 65,
   "metadata": {
    "collapsed": false
   },
   "outputs": [
    {
     "name": "stdout",
     "output_type": "stream",
     "text": [
      "'data.frame':\t4264 obs. of  10 variables:\n",
      " $ nama_provinsi        : Factor w/ 33 levels \"Prov. Bali\",\"Prov. Banten\",..: 20 20 20 20 20 20 20 20 20 20 ...\n",
      " $ kode_kabkota         : int  1101 1102 1103 1104 1105 1106 1107 1108 1109 1110 ...\n",
      " $ nama_kabkota         : Factor w/ 497 levels \"Kab. Aceh Barat\",..: 336 6 5 9 10 8 1 3 290 57 ...\n",
      " $ koordinat_kabkota    : Factor w/ 497 levels \"-0.000848,100.563\",..: 454 449 466 473 487 486 485 495 492 491 ...\n",
      " $ tahun                : int  2004 2004 2004 2004 2004 2004 2004 2004 2004 2004 ...\n",
      " $ angka_harapan_hidup  : num  62.4 63 65.5 68.6 68.5 ...\n",
      " $ angka_melek_huruf    : num  94.5 96.2 95.7 96 96.7 ...\n",
      " $ lama_sekolah         : num  6.1 7.67 8.09 9.34 8.06 ...\n",
      " $ pengeluaran_perkapita: num  596 588 582 580 569 ...\n",
      " $ ipm                  : num  64.5 65.8 66.9 69.4 67.7 ...\n"
     ]
    },
    {
     "data": {},
     "metadata": {},
     "output_type": "display_data"
    }
   ],
   "source": [
    "ipm <- read.delim(file=\"processed-ipm-dan-komponen-per-kabupaten-2004-2012.csv\", sep=\",\", header=TRUE)\n",
    "#un <- gather(un, pelajaran, nilai, -c(1:2, 14:16))\n",
    "ipm <- mutate(ipm, angka_melek_huruf = as.numeric(angka_melek_huruf), lama_sekolah = as.numeric(lama_sekolah), \n",
    "             ipm = as.numeric(ipm), pengeluaran_perkapita = as.numeric(pengeluaran_perkapita))\n",
    "ipm <- filter(ipm, !is.na(angka_melek_huruf), !is.na(lama_sekolah), !is.na(ipm))\n",
    "#un\n",
    "str(ipm)\n",
    "\n",
    "ggvis(ipm, ~nama_kabkota, ~ipm, fill := \"red\") %>%\n",
    "    layer_points() \n",
    "#    layer_text(text := ~X0, fontSize := 10)"
   ]
  },
  {
   "cell_type": "code",
   "execution_count": 62,
   "metadata": {
    "collapsed": false
   },
   "outputs": [
    {
     "name": "stdout",
     "output_type": "stream",
     "text": [
      "Classes 'tbl_df', 'tbl' and 'data.frame':\t33 obs. of  3 variables:\n",
      " $ nama_provinsi        : Factor w/ 33 levels \"Prov. Bali\",\"Prov. Banten\",..: 1 2 3 4 5 6 7 8 9 10 ...\n",
      " $ ipm                  : num  71.4 70.8 69.7 74.5 76.6 ...\n",
      " $ pengeluaran_perkapita: num  633 632 614 636 630 ...\n"
     ]
    },
    {
     "data": {},
     "metadata": {},
     "output_type": "display_data"
    }
   ],
   "source": [
    "ipm <- read.delim(file=\"processed-ipm-dan-komponen-per-kabupaten-2004-2012.csv\", sep=\",\", header=TRUE)\n",
    "#un <- gather(un, pelajaran, nilai, -c(1:2, 14:16))\n",
    "ipm <- mutate(ipm, angka_melek_huruf = as.numeric(angka_melek_huruf), lama_sekolah = as.numeric(lama_sekolah), \n",
    "             ipm = as.numeric(ipm), pengeluaran_perkapita = as.numeric(pengeluaran_perkapita))\n",
    "ipm <- filter(ipm, !is.na(angka_melek_huruf), !is.na(lama_sekolah), !is.na(ipm))\n",
    "ipm <- group_by(ipm, nama_provinsi)\n",
    "ipm <- summarise(ipm, ipm = mean(ipm), pengeluaran_perkapita = mean(pengeluaran_perkapita))\n",
    "#un\n",
    "str(ipm)\n",
    "\n",
    "ggvis(ipm, ~ipm, ~pengeluaran_perkapita, fill = ~factor(nama_provinsi)) %>%\n",
    "    layer_points() \n",
    "#    layer_text(text := ~X0, fontSize := 10)"
   ]
  },
  {
   "cell_type": "code",
   "execution_count": 76,
   "metadata": {
    "collapsed": false
   },
   "outputs": [
    {
     "data": {
      "text/html": [
       "<table>\n",
       "<thead><tr><th scope=col>Wilayah</th><th scope=col>Lintang</th><th scope=col>Bujur</th><th scope=col>Jenjang</th><th scope=col>Baik</th><th scope=col>RusakRingan</th><th scope=col>RusakSedang</th><th scope=col>RusakBerat</th><th scope=col>Rusak</th></tr></thead>\n",
       "<tbody>\n",
       "\t<tr><td>Kab. Aceh Tamiang </td><td>4,229489          </td><td>97,976987         </td><td>SLB               </td><td> 0                </td><td>5                 </td><td>40                </td><td>0                 </td><td>100               </td></tr>\n",
       "\t<tr><td>Kab. Aceh Tengah  </td><td>4,530121          </td><td>96,859023         </td><td>SLB               </td><td> 0                </td><td>0                 </td><td> 0                </td><td>5                 </td><td>100               </td></tr>\n",
       "\t<tr><td>Kab. Aceh Tenggara</td><td>3,369112          </td><td>97,696621         </td><td>SLB               </td><td>16                </td><td>0                 </td><td> 0                </td><td>0                 </td><td>  0               </td></tr>\n",
       "\t<tr><td>Kab. Aceh Timur   </td><td>4,629968          </td><td>97,627748         </td><td>SLB               </td><td> 2                </td><td>0                 </td><td> 0                </td><td>0                 </td><td>  0               </td></tr>\n",
       "\t<tr><td>Kab. Aceh Utara   </td><td>5,014969          </td><td>97,181919         </td><td>SLB               </td><td> 0                </td><td>4                 </td><td> 0                </td><td>0                 </td><td>100               </td></tr>\n",
       "\t<tr><td>Kab. Asmat        </td><td>-5,3231           </td><td>138,62231         </td><td>SMK               </td><td> 0                </td><td>3                 </td><td> 0                </td><td>0                 </td><td>100               </td></tr>\n",
       "</tbody>\n",
       "</table>\n"
      ],
      "text/latex": [
       "\\begin{tabular}{r|lllllllll}\n",
       " Wilayah & Lintang & Bujur & Jenjang & Baik & RusakRingan & RusakSedang & RusakBerat & Rusak\\\\\n",
       "\\hline\n",
       "\t Kab. Aceh Tamiang  & 4,229489           & 97,976987          & SLB                &  0                 & 5                  & 40                 & 0                  & 100               \\\\\n",
       "\t Kab. Aceh Tengah   & 4,530121           & 96,859023          & SLB                &  0                 & 0                  &  0                 & 5                  & 100               \\\\\n",
       "\t Kab. Aceh Tenggara & 3,369112           & 97,696621          & SLB                & 16                 & 0                  &  0                 & 0                  &   0               \\\\\n",
       "\t Kab. Aceh Timur    & 4,629968           & 97,627748          & SLB                &  2                 & 0                  &  0                 & 0                  &   0               \\\\\n",
       "\t Kab. Aceh Utara    & 5,014969           & 97,181919          & SLB                &  0                 & 4                  &  0                 & 0                  & 100               \\\\\n",
       "\t Kab. Asmat         & -5,3231            & 138,62231          & SMK                &  0                 & 3                  &  0                 & 0                  & 100               \\\\\n",
       "\\end{tabular}\n"
      ],
      "text/plain": [
       "  Wilayah            Lintang  Bujur     Jenjang Baik RusakRingan RusakSedang\n",
       "1 Kab. Aceh Tamiang  4,229489 97,976987 SLB      0   5           40         \n",
       "2 Kab. Aceh Tengah   4,530121 96,859023 SLB      0   0            0         \n",
       "3 Kab. Aceh Tenggara 3,369112 97,696621 SLB     16   0            0         \n",
       "4 Kab. Aceh Timur    4,629968 97,627748 SLB      2   0            0         \n",
       "5 Kab. Aceh Utara    5,014969 97,181919 SLB      0   4            0         \n",
       "6 Kab. Asmat         -5,3231  138,62231 SMK      0   3            0         \n",
       "  RusakBerat Rusak\n",
       "1 0          100  \n",
       "2 5          100  \n",
       "3 0            0  \n",
       "4 0            0  \n",
       "5 0          100  \n",
       "6 0          100  "
      ]
     },
     "metadata": {},
     "output_type": "display_data"
    },
    {
     "data": {},
     "metadata": {},
     "output_type": "display_data"
    }
   ],
   "source": [
    "kelas <- read.delim(file=\"jumlahruangkelasmenurutkondisi.csv\", sep=\";\", header=TRUE)\n",
    "#un <- gather(un, pelajaran, nilai, -c(1:2, 14:16))\n",
    "kelas <- filter(kelas, !is.na(Baik), !is.na(RusakRingan), !is.na(RusakSedang), !is.na(RusakBerat))\n",
    "kelas <- mutate(kelas, Rusak = (RusakRingan+RusakSedang+RusakBerat)/(Baik+RusakRingan+RusakSedang+RusakBerat)*100)\n",
    "#kelas <- group_by(kelas, nama_provinsi)\n",
    "#kelas <- summarise(kelas, kelas = mean(kelas), pengeluaran_perkapita = mean(pengeluaran_perkapita))\n",
    "#un\n",
    "#kelas <- filter(kelas, Rusak>=100 | Rusak<=0)\n",
    "head(kelas)\n",
    "\n",
    "ggvis(kelas, ~Wilayah, ~Rusak, fill = ~Jenjang) %>%\n",
    "    layer_points() \n",
    "#    layer_text(text := ~X0, fontSize := 10)\n"
   ]
  },
  {
   "cell_type": "code",
   "execution_count": 79,
   "metadata": {
    "collapsed": false
   },
   "outputs": [
    {
     "data": {
      "text/html": [
       "<table>\n",
       "<thead><tr><th scope=col>Wilayah</th><th scope=col>Lintang</th><th scope=col>Bujur</th><th scope=col>Jenjang</th><th scope=col>Baik</th><th scope=col>Ringan</th><th scope=col>Sedang</th><th scope=col>Berat</th><th scope=col>Rusak</th></tr></thead>\n",
       "<tbody>\n",
       "\t<tr><td>Indonesia           </td><td>-2,219622           </td><td>117,564668          </td><td>SD                  </td><td>27313               </td><td>50146               </td><td>4305                </td><td>7108                </td><td>69.26704            </td></tr>\n",
       "\t<tr><td>Indonesia           </td><td>-2,219622           </td><td>117,564668          </td><td>SLB                 </td><td>  291               </td><td>  452               </td><td>  41                </td><td>  48                </td><td>65.02404            </td></tr>\n",
       "\t<tr><td>Indonesia           </td><td>-2,219622           </td><td>117,564668          </td><td>SMA                 </td><td> 4189               </td><td> 4469               </td><td> 331                </td><td> 591                </td><td>56.27349            </td></tr>\n",
       "\t<tr><td>Indonesia           </td><td>-2,219622           </td><td>117,564668          </td><td>SMK                 </td><td> 3306               </td><td> 3503               </td><td> 209                </td><td> 343                </td><td>55.08762            </td></tr>\n",
       "\t<tr><td>Indonesia           </td><td>-2,219622           </td><td>117,564668          </td><td>SMP                 </td><td> 7868               </td><td>15191               </td><td>1805                </td><td>3209                </td><td>71.97307            </td></tr>\n",
       "\t<tr><td>Prop. D.K.I. Jakarta</td><td>-6,208763           </td><td>106,845599          </td><td>SD                  </td><td>  953               </td><td>  629               </td><td>  36                </td><td>  59                </td><td>43.17233            </td></tr>\n",
       "</tbody>\n",
       "</table>\n"
      ],
      "text/latex": [
       "\\begin{tabular}{r|lllllllll}\n",
       " Wilayah & Lintang & Bujur & Jenjang & Baik & Ringan & Sedang & Berat & Rusak\\\\\n",
       "\\hline\n",
       "\t Indonesia            & -2,219622            & 117,564668           & SD                   & 27313                & 50146                & 4305                 & 7108                 & 69.26704            \\\\\n",
       "\t Indonesia            & -2,219622            & 117,564668           & SLB                  &   291                &   452                &   41                 &   48                 & 65.02404            \\\\\n",
       "\t Indonesia            & -2,219622            & 117,564668           & SMA                  &  4189                &  4469                &  331                 &  591                 & 56.27349            \\\\\n",
       "\t Indonesia            & -2,219622            & 117,564668           & SMK                  &  3306                &  3503                &  209                 &  343                 & 55.08762            \\\\\n",
       "\t Indonesia            & -2,219622            & 117,564668           & SMP                  &  7868                & 15191                & 1805                 & 3209                 & 71.97307            \\\\\n",
       "\t Prop. D.K.I. Jakarta & -6,208763            & 106,845599           & SD                   &   953                &   629                &   36                 &   59                 & 43.17233            \\\\\n",
       "\\end{tabular}\n"
      ],
      "text/plain": [
       "  Wilayah              Lintang   Bujur      Jenjang Baik  Ringan Sedang Berat\n",
       "1 Indonesia            -2,219622 117,564668 SD      27313 50146  4305   7108 \n",
       "2 Indonesia            -2,219622 117,564668 SLB       291   452    41     48 \n",
       "3 Indonesia            -2,219622 117,564668 SMA      4189  4469   331    591 \n",
       "4 Indonesia            -2,219622 117,564668 SMK      3306  3503   209    343 \n",
       "5 Indonesia            -2,219622 117,564668 SMP      7868 15191  1805   3209 \n",
       "6 Prop. D.K.I. Jakarta -6,208763 106,845599 SD        953   629    36     59 \n",
       "  Rusak   \n",
       "1 69.26704\n",
       "2 65.02404\n",
       "3 56.27349\n",
       "4 55.08762\n",
       "5 71.97307\n",
       "6 43.17233"
      ]
     },
     "metadata": {},
     "output_type": "display_data"
    },
    {
     "data": {},
     "metadata": {},
     "output_type": "display_data"
    }
   ],
   "source": [
    "perpustakaan <- read.delim(file=\"jumlahperpustakaanmenurutkondisi.csv\", sep=\";\", header=TRUE)\n",
    "#un <- gather(un, pelajaran, nilai, -c(1:2, 14:16))\n",
    "perpustakaan <- filter(perpustakaan, !is.na(Baik), !is.na(Ringan), !is.na(Sedang), !is.na(Berat))\n",
    "perpustakaan <- mutate(perpustakaan, Rusak = (Ringan+Sedang+Berat)/(Baik+Ringan+Sedang+Berat)*100)\n",
    "#perpustakaan <- group_by(perpustakaan, nama_provinsi)\n",
    "#perpustakaan <- summarise(perpustakaan, perpustakaan = mean(perpustakaan), pengeluaran_perkapita = mean(pengeluaran_perkapita))\n",
    "#un\n",
    "#perpustakaan <- filter(perpustakaan, Rusak>=100 | Rusak<=0)\n",
    "head(perpustakaan)\n",
    "\n",
    "ggvis(perpustakaan, ~Wilayah, ~Rusak, fill = ~Jenjang) %>%\n",
    "    layer_points() \n",
    "#    layer_text(text := ~X0, fontSize := 10)\n"
   ]
  },
  {
   "cell_type": "code",
   "execution_count": 80,
   "metadata": {
    "collapsed": false
   },
   "outputs": [
    {
     "data": {
      "text/html": [
       "<table>\n",
       "<thead><tr><th scope=col>Wilayah</th><th scope=col>Lintang</th><th scope=col>Bujur</th><th scope=col>Jenjang</th><th scope=col>Baik</th><th scope=col>Ringan</th><th scope=col>Sedang</th><th scope=col>Berat</th><th scope=col>Rusak</th></tr></thead>\n",
       "<tbody>\n",
       "\t<tr><td>Indonesia           </td><td>-2,219622           </td><td>117,564668          </td><td>SD                  </td><td>2666                </td><td> 2470               </td><td> 181                </td><td> 401                </td><td>53.37531            </td></tr>\n",
       "\t<tr><td>Indonesia           </td><td>-2,219622           </td><td>117,564668          </td><td>SLB                 </td><td>  21                </td><td>   32               </td><td>   1                </td><td>   3                </td><td>63.15789            </td></tr>\n",
       "\t<tr><td>Indonesia           </td><td>-2,219622           </td><td>117,564668          </td><td>SMA                 </td><td>9279                </td><td> 8492               </td><td> 569                </td><td> 988                </td><td>51.99193            </td></tr>\n",
       "\t<tr><td>Indonesia           </td><td>-2,219622           </td><td>117,564668          </td><td>SMK                 </td><td>2798                </td><td> 2651               </td><td> 101                </td><td> 216                </td><td>51.47416            </td></tr>\n",
       "\t<tr><td>Indonesia           </td><td>-2,219622           </td><td>117,564668          </td><td>SMP                 </td><td>9810                </td><td>16338               </td><td>1876                </td><td>3451                </td><td>68.83241            </td></tr>\n",
       "\t<tr><td>Prop. D.K.I. Jakarta</td><td>-6,208763           </td><td>106,845599          </td><td>SD                  </td><td> 560                </td><td>  285               </td><td>  12                </td><td>  20                </td><td>36.14595            </td></tr>\n",
       "</tbody>\n",
       "</table>\n"
      ],
      "text/latex": [
       "\\begin{tabular}{r|lllllllll}\n",
       " Wilayah & Lintang & Bujur & Jenjang & Baik & Ringan & Sedang & Berat & Rusak\\\\\n",
       "\\hline\n",
       "\t Indonesia            & -2,219622            & 117,564668           & SD                   & 2666                 &  2470                &  181                 &  401                 & 53.37531            \\\\\n",
       "\t Indonesia            & -2,219622            & 117,564668           & SLB                  &   21                 &    32                &    1                 &    3                 & 63.15789            \\\\\n",
       "\t Indonesia            & -2,219622            & 117,564668           & SMA                  & 9279                 &  8492                &  569                 &  988                 & 51.99193            \\\\\n",
       "\t Indonesia            & -2,219622            & 117,564668           & SMK                  & 2798                 &  2651                &  101                 &  216                 & 51.47416            \\\\\n",
       "\t Indonesia            & -2,219622            & 117,564668           & SMP                  & 9810                 & 16338                & 1876                 & 3451                 & 68.83241            \\\\\n",
       "\t Prop. D.K.I. Jakarta & -6,208763            & 106,845599           & SD                   &  560                 &   285                &   12                 &   20                 & 36.14595            \\\\\n",
       "\\end{tabular}\n"
      ],
      "text/plain": [
       "  Wilayah              Lintang   Bujur      Jenjang Baik Ringan Sedang Berat\n",
       "1 Indonesia            -2,219622 117,564668 SD      2666  2470   181    401 \n",
       "2 Indonesia            -2,219622 117,564668 SLB       21    32     1      3 \n",
       "3 Indonesia            -2,219622 117,564668 SMA     9279  8492   569    988 \n",
       "4 Indonesia            -2,219622 117,564668 SMK     2798  2651   101    216 \n",
       "5 Indonesia            -2,219622 117,564668 SMP     9810 16338  1876   3451 \n",
       "6 Prop. D.K.I. Jakarta -6,208763 106,845599 SD       560   285    12     20 \n",
       "  Rusak   \n",
       "1 53.37531\n",
       "2 63.15789\n",
       "3 51.99193\n",
       "4 51.47416\n",
       "5 68.83241\n",
       "6 36.14595"
      ]
     },
     "metadata": {},
     "output_type": "display_data"
    },
    {
     "data": {},
     "metadata": {},
     "output_type": "display_data"
    }
   ],
   "source": [
    "laboratorium <- read.delim(file=\"jumlahlaboratoriummenurutkondisi.csv\", sep=\";\", header=TRUE)\n",
    "#un <- gather(un, pelajaran, nilai, -c(1:2, 14:16))\n",
    "laboratorium <- filter(laboratorium, !is.na(Baik), !is.na(Ringan), !is.na(Sedang), !is.na(Berat))\n",
    "laboratorium <- mutate(laboratorium, Rusak = (Ringan+Sedang+Berat)/(Baik+Ringan+Sedang+Berat)*100)\n",
    "#laboratorium <- group_by(laboratorium, nama_provinsi)\n",
    "#laboratorium <- summarise(laboratorium, laboratorium = mean(laboratorium), pengeluaran_perkapita = mean(pengeluaran_perkapita))\n",
    "#un\n",
    "#laboratorium <- filter(laboratorium, Rusak>=100 | Rusak<=0)\n",
    "head(laboratorium)\n",
    "\n",
    "ggvis(laboratorium, ~Wilayah, ~Rusak, fill = ~Jenjang) %>%\n",
    "    layer_points() \n",
    "#    layer_text(text := ~X0, fontSize := 10)"
   ]
  },
  {
   "cell_type": "code",
   "execution_count": 83,
   "metadata": {
    "collapsed": true
   },
   "outputs": [
    {
     "name": "stderr",
     "output_type": "stream",
     "text": [
      "Warning message:\n",
      "\"attributes are not identical across measure variables; they will be dropped\""
     ]
    },
    {
     "data": {
      "text/html": [
       "<table>\n",
       "<thead><tr><th scope=col>Wilayah</th><th scope=col>Lintang</th><th scope=col>Bujur</th><th scope=col>jenjang</th><th scope=col>nilai</th><th scope=col>ratio_siswa_kelas</th></tr></thead>\n",
       "<tbody>\n",
       "\t<tr><td>Indonesia            </td><td>-2,219622            </td><td>117,564668           </td><td>SD                   </td><td>24,99                </td><td>24.99                </td></tr>\n",
       "\t<tr><td>Prop. Aceh           </td><td>3,93002              </td><td>97,833252            </td><td>SD                   </td><td>20,23                </td><td>20.23                </td></tr>\n",
       "\t<tr><td>Prop. Bali           </td><td>-8,409518            </td><td>115,188916           </td><td>SD                   </td><td>24,95                </td><td>24.95                </td></tr>\n",
       "\t<tr><td>Prop. Bangka Belitung</td><td>-2,741051            </td><td>106,440587           </td><td>SD                   </td><td>24,71                </td><td>24.71                </td></tr>\n",
       "\t<tr><td>Prop. Banten         </td><td>-6,405817            </td><td>106,064018           </td><td>SD                   </td><td>35,07                </td><td>35.07                </td></tr>\n",
       "\t<tr><td>Prop. Bengkulu       </td><td>-3,792845            </td><td>102,260764           </td><td>SD                   </td><td>21,63                </td><td>21.63                </td></tr>\n",
       "</tbody>\n",
       "</table>\n"
      ],
      "text/latex": [
       "\\begin{tabular}{r|llllll}\n",
       " Wilayah & Lintang & Bujur & jenjang & nilai & ratio\\_siswa\\_kelas\\\\\n",
       "\\hline\n",
       "\t Indonesia             & -2,219622             & 117,564668            & SD                    & 24,99                 & 24.99                \\\\\n",
       "\t Prop. Aceh            & 3,93002               & 97,833252             & SD                    & 20,23                 & 20.23                \\\\\n",
       "\t Prop. Bali            & -8,409518             & 115,188916            & SD                    & 24,95                 & 24.95                \\\\\n",
       "\t Prop. Bangka Belitung & -2,741051             & 106,440587            & SD                    & 24,71                 & 24.71                \\\\\n",
       "\t Prop. Banten          & -6,405817             & 106,064018            & SD                    & 35,07                 & 35.07                \\\\\n",
       "\t Prop. Bengkulu        & -3,792845             & 102,260764            & SD                    & 21,63                 & 21.63                \\\\\n",
       "\\end{tabular}\n"
      ],
      "text/plain": [
       "  Wilayah               Lintang   Bujur      jenjang nilai ratio_siswa_kelas\n",
       "1 Indonesia             -2,219622 117,564668 SD      24,99 24.99            \n",
       "2 Prop. Aceh            3,93002   97,833252  SD      20,23 20.23            \n",
       "3 Prop. Bali            -8,409518 115,188916 SD      24,95 24.95            \n",
       "4 Prop. Bangka Belitung -2,741051 106,440587 SD      24,71 24.71            \n",
       "5 Prop. Banten          -6,405817 106,064018 SD      35,07 35.07            \n",
       "6 Prop. Bengkulu        -3,792845 102,260764 SD      21,63 21.63            "
      ]
     },
     "metadata": {},
     "output_type": "display_data"
    },
    {
     "data": {},
     "metadata": {},
     "output_type": "display_data"
    }
   ],
   "source": [
    "ratio_kelas <- read.delim(file=\"rasiosiswakelas.csv\", sep=\";\", header=TRUE)\n",
    "ratio_kelas <- ratio_kelas[1:7]\n",
    "ratio_kelas <- gather(ratio_kelas, jenjang, nilai, -c(1:3))\n",
    "ratio_kelas <- mutate(ratio_kelas, ratio_siswa_kelas = as.numeric(gsub(\",\", \".\", nilai)))\n",
    "head(ratio_kelas)\n",
    "\n",
    "ggvis(ratio_kelas, ~Wilayah, ~ratio_siswa_kelas, fill = ~jenjang) %>%\n",
    "    layer_points() \n",
    "#    layer_text(text := ~X0, fontSize := 10)\n"
   ]
  },
  {
   "cell_type": "code",
   "execution_count": 130,
   "metadata": {
    "collapsed": false
   },
   "outputs": [
    {
     "name": "stderr",
     "output_type": "stream",
     "text": [
      "Warning message:\n",
      "\"attributes are not identical across measure variables; they will be dropped\""
     ]
    },
    {
     "name": "stdout",
     "output_type": "stream",
     "text": [
      "'data.frame':\t136 obs. of  6 variables:\n",
      " $ Wilayah         : Factor w/ 549 levels \"Indonesia\",\"Kab. Aceh Barat\",..: 516 517 518 519 520 521 522 523 524 525 ...\n",
      " $ Lintang         : Factor w/ 549 levels \"-0,009566\",\"-0,030227\",..: 530 384 114 263 175 351 255 437 55 304 ...\n",
      " $ Bujur           : Factor w/ 549 levels \"#N/A\",\"100,056515\",..: 515 274 109 101 37 180 121 393 60 134 ...\n",
      " $ jenjang         : chr  \"SD\" \"SD\" \"SD\" \"SD\" ...\n",
      " $ nilai           : chr  \"25,62\" \"27,98\" \"31,29\" \"42,74\" ...\n",
      " $ ratio_siswa_guru: num  25.6 28 31.3 42.7 27.5 ...\n"
     ]
    },
    {
     "data": {
      "text/html": [
       "<table>\n",
       "<thead><tr><th scope=col>Wilayah</th><th scope=col>Lintang</th><th scope=col>Bujur</th><th scope=col>jenjang</th><th scope=col>nilai</th><th scope=col>ratio_siswa_guru</th></tr></thead>\n",
       "<tbody>\n",
       "\t<tr><td>Prop. Aceh           </td><td>3,93002              </td><td>97,833252            </td><td>SD                   </td><td>25,62                </td><td>25.62                </td></tr>\n",
       "\t<tr><td>Prop. Bali           </td><td>-8,409518            </td><td>115,188916           </td><td>SD                   </td><td>27,98                </td><td>27.98                </td></tr>\n",
       "\t<tr><td>Prop. Bangka Belitung</td><td>-2,741051            </td><td>106,440587           </td><td>SD                   </td><td>31,29                </td><td>31.29                </td></tr>\n",
       "\t<tr><td>Prop. Banten         </td><td>-6,405817            </td><td>106,064018           </td><td>SD                   </td><td>42,74                </td><td>42.74                </td></tr>\n",
       "\t<tr><td>Prop. Bengkulu       </td><td>-3,792845            </td><td>102,260764           </td><td>SD                   </td><td>27,46                </td><td>27.46                </td></tr>\n",
       "\t<tr><td>Prop. D.I. Yogyakarta</td><td>-7,79558             </td><td>110,36949            </td><td>SD                   </td><td>25,85                </td><td>25.85                </td></tr>\n",
       "</tbody>\n",
       "</table>\n"
      ],
      "text/latex": [
       "\\begin{tabular}{r|llllll}\n",
       " Wilayah & Lintang & Bujur & jenjang & nilai & ratio\\_siswa\\_guru\\\\\n",
       "\\hline\n",
       "\t Prop. Aceh            & 3,93002               & 97,833252             & SD                    & 25,62                 & 25.62                \\\\\n",
       "\t Prop. Bali            & -8,409518             & 115,188916            & SD                    & 27,98                 & 27.98                \\\\\n",
       "\t Prop. Bangka Belitung & -2,741051             & 106,440587            & SD                    & 31,29                 & 31.29                \\\\\n",
       "\t Prop. Banten          & -6,405817             & 106,064018            & SD                    & 42,74                 & 42.74                \\\\\n",
       "\t Prop. Bengkulu        & -3,792845             & 102,260764            & SD                    & 27,46                 & 27.46                \\\\\n",
       "\t Prop. D.I. Yogyakarta & -7,79558              & 110,36949             & SD                    & 25,85                 & 25.85                \\\\\n",
       "\\end{tabular}\n"
      ],
      "text/plain": [
       "  Wilayah               Lintang   Bujur      jenjang nilai ratio_siswa_guru\n",
       "1 Prop. Aceh            3,93002   97,833252  SD      25,62 25.62           \n",
       "2 Prop. Bali            -8,409518 115,188916 SD      27,98 27.98           \n",
       "3 Prop. Bangka Belitung -2,741051 106,440587 SD      31,29 31.29           \n",
       "4 Prop. Banten          -6,405817 106,064018 SD      42,74 42.74           \n",
       "5 Prop. Bengkulu        -3,792845 102,260764 SD      27,46 27.46           \n",
       "6 Prop. D.I. Yogyakarta -7,79558  110,36949  SD      25,85 25.85           "
      ]
     },
     "metadata": {},
     "output_type": "display_data"
    },
    {
     "data": {},
     "metadata": {},
     "output_type": "display_data"
    }
   ],
   "source": [
    "ratio_siswa <- read.delim(file=\"rasiosiswagurusertifikasi.csv\", sep=\";\", header=TRUE)\n",
    "ratio_siswa <- ratio_siswa[1:7]\n",
    "ratio_siswa <- filter(ratio_siswa, substr(Wilayah, start=1, stop=5) == \"Prop.\")\n",
    "ratio_siswa <- gather(ratio_siswa, jenjang, nilai, -c(1:3))\n",
    "ratio_siswa <- mutate(ratio_siswa, ratio_siswa_guru = as.numeric(gsub(\",\", \".\", nilai)))\n",
    "ratio_siswa <- filter(ratio_siswa, !is.na(nilai))\n",
    "\n",
    "#ratio_siswa <- arrange(ratio_siswa, desc(ratio_siswa_guru))\n",
    "str(ratio_siswa)\n",
    "head(ratio_siswa)\n",
    "\n",
    "ggvis(ratio_siswa, ~Lintang, ~ratio_siswa_guru, fill = ~jenjang) %>%\n",
    "    layer_points() \n",
    "#    layer_text(text := ~X0, fontSize := 10)\n"
   ]
  }
 ],
 "metadata": {
  "anaconda-cloud": {},
  "kernelspec": {
   "display_name": "R",
   "language": "R",
   "name": "ir"
  },
  "language_info": {
   "codemirror_mode": "r",
   "file_extension": ".r",
   "mimetype": "text/x-r-source",
   "name": "R",
   "pygments_lexer": "r",
   "version": "3.3.1"
  }
 },
 "nbformat": 4,
 "nbformat_minor": 0
}
